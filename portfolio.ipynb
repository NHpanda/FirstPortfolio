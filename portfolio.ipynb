{
  "nbformat": 4,
  "nbformat_minor": 0,
  "metadata": {
    "colab": {
      "provenance": [],
      "toc_visible": true,
      "include_colab_link": true
    },
    "kernelspec": {
      "name": "python3",
      "display_name": "Python 3"
    },
    "language_info": {
      "name": "python"
    },
    "gpuClass": "standard",
    "accelerator": "GPU"
  },
  "cells": [
    {
      "cell_type": "markdown",
      "metadata": {
        "id": "view-in-github",
        "colab_type": "text"
      },
      "source": [
        "<a href=\"https://colab.research.google.com/github/NHpanda/sdl.HelloAndroid/blob/master/portfolio.ipynb\" target=\"_parent\"><img src=\"https://colab.research.google.com/assets/colab-badge.svg\" alt=\"Open In Colab\"/></a>"
      ]
    },
    {
      "cell_type": "markdown",
      "source": [
        "<!-- JPN -->\n",
        "# ゲームの売り上げ"
      ],
      "metadata": {
        "id": "aqhCdOU8qc0i"
      }
    },
    {
      "cell_type": "markdown",
      "source": [
        "<!-- JPN -->\n",
        "ゲームの売り上げについて様々な手法を用いて回帰分析を行います。\n",
        "これを様々なエンコーディング手法を用いて行うことで最適な回帰分析の手法やエンコーディングの種類を決定します。\n",
        "\n",
        "**1 | データの整理と回帰分析を行う関数の定義**\n",
        "\n",
        "**2 | One-Hotエンコーディング**\n",
        "\n",
        "**3 | カウントエンコーディング**\n",
        "\n",
        "**4 | ラベルエンコーディング**\n",
        "\n",
        "**5 | 考察**"
      ],
      "metadata": {
        "id": "sY0I7p6ZrRsM"
      }
    },
    {
      "cell_type": "markdown",
      "source": [
        "<!-- JPN -->\n",
        "## 1 | データの整理と回帰分析を行う関数の定義"
      ],
      "metadata": {
        "id": "HQa5p3Brtrhb"
      }
    },
    {
      "cell_type": "markdown",
      "source": [
        "<!-- JPN -->\n",
        "### 1.1 | データの整理"
      ],
      "metadata": {
        "id": "sVC4N2GBuSFc"
      }
    },
    {
      "cell_type": "markdown",
      "source": [
        "<!-- JPN -->\n",
        "まずは pandas を利用して、データセットを読み込みます。このデータセットにはいくつかのゲームについて以下のような情報がまとめられています。\n",
        "\n",
        "|  変数  | 説明  |\n",
        "| ---- | ---- |\n",
        "|Rank | 全世界での売り上げランキング|\n",
        "|Name | ゲームの名前 |\n",
        "|Platform | リリースされたゲームのプラットフォーム|\n",
        "|Year | 発売された年|\n",
        "|Genre | ゲームのジャンル|\n",
        "|Publisher| ゲームを発売した会社|\n",
        "|NA_Sales | 北アメリアにおける売り上げ(/百万円)|\n",
        "|EU_Sales | ヨーロッパにおける売り上げ(/百万円)|\n",
        "|JP_Sales | 日本における売り上げ(/百万円)|\n",
        "|Other_Sales | その他の売り上げ(/百万円)|\n",
        "|Global_Sales | 全世界での売り上げ(/百万円)|"
      ],
      "metadata": {
        "id": "uyjw5d8wuk-t"
      }
    },
    {
      "cell_type": "code",
      "execution_count": null,
      "metadata": {
        "colab": {
          "base_uri": "https://localhost:8080/"
        },
        "id": "GAs29Mi-APrB",
        "outputId": "c6b0ae64-605f-4121-b582-d4b5e77bf0f6"
      },
      "outputs": [
        {
          "output_type": "stream",
          "name": "stdout",
          "text": [
            "   Rank                      Name Platform    Year         Genre Publisher  \\\n",
            "0     1                Wii Sports      Wii  2006.0        Sports  Nintendo   \n",
            "1     2         Super Mario Bros.      NES  1985.0      Platform  Nintendo   \n",
            "2     3            Mario Kart Wii      Wii  2008.0        Racing  Nintendo   \n",
            "3     4         Wii Sports Resort      Wii  2009.0        Sports  Nintendo   \n",
            "4     5  Pokemon Red/Pokemon Blue       GB  1996.0  Role-Playing  Nintendo   \n",
            "\n",
            "   NA_Sales  EU_Sales  JP_Sales  Other_Sales  Global_Sales  \n",
            "0     41.49     29.02      3.77         8.46         82.74  \n",
            "1     29.08      3.58      6.81         0.77         40.24  \n",
            "2     15.85     12.88      3.79         3.31         35.82  \n",
            "3     15.75     11.01      3.28         2.96         33.00  \n",
            "4     11.27      8.89     10.22         1.00         31.37  \n"
          ]
        }
      ],
      "source": [
        "import numpy as np\n",
        "import pandas as pd\n",
        "df = pd.read_csv(\"vgsales.csv\")\n",
        "print(df.head())"
      ]
    },
    {
      "cell_type": "markdown",
      "source": [
        "<!-- JPN -->\n",
        "今回は\"Platform\",\"Year\",\"Genre\",\"Publisher\"からそれぞれの売り上げを回帰することを考えます。"
      ],
      "metadata": {
        "id": "NfU_Xd5jxrZF"
      }
    },
    {
      "cell_type": "code",
      "source": [
        "df = df[[\"Platform\", \"Year\", \"Genre\", \"Publisher\", \"NA_Sales\", \"EU_Sales\", \"JP_Sales\", \"Global_Sales\"]]"
      ],
      "metadata": {
        "id": "JPY8lg_TQ_c4"
      },
      "execution_count": null,
      "outputs": []
    },
    {
      "cell_type": "markdown",
      "source": [
        "--------"
      ],
      "metadata": {
        "id": "n2t5gTSoytwn"
      }
    },
    {
      "cell_type": "markdown",
      "source": [
        "<!-- JPN -->\n",
        "### 1.2 | 回帰分析を行う関数の定義\n",
        "\n",
        "今回はランダムフォレスト、アダブースト、リッジ回帰、ニューラルネットワークの4種類の手法を用います。"
      ],
      "metadata": {
        "id": "b6WX8P1Py17u"
      }
    },
    {
      "cell_type": "markdown",
      "source": [
        "<!-- JPN -->\n",
        "まずはランダムフォレストです。今回は交差検証法を用いて、ランダムフォレストに対する適切なハイパーパラメータを決定し、そのパラメータを用いてもう一度ランダムフォレストで学習します。評価指標はMAEとし、探索するハイパーパラメータは以下の通りとします。\n",
        "\n",
        "|  変数  | パラメータの範囲  |\n",
        "| ---- | ---- |\n",
        "|  `n_estimators` | `10, 20`  |\n",
        "|  `max_depth`  | `2, 4, 6` |"
      ],
      "metadata": {
        "id": "HxFCU8emzEK3"
      }
    },
    {
      "cell_type": "code",
      "source": [
        "from sklearn.model_selection import train_test_split\n",
        "from sklearn.ensemble import RandomForestRegressor\n",
        "from sklearn.model_selection import GridSearchCV\n",
        "from sklearn.model_selection import cross_val_score\n",
        "from sklearn.metrics import mean_absolute_error\n",
        "import matplotlib.pyplot as plt\n",
        "\n",
        "def RandomForest(X, Y):\n",
        "  X_train, X_test, Y_train, Y_test = train_test_split(X, Y,\n",
        "                                                    test_size=0.2, random_state=0)\n",
        "\n",
        "  rfr = RandomForestRegressor(random_state=0)\n",
        "  param_grid = [  \n",
        "  {\n",
        "      \"n_estimators\" : [10,20]\n",
        "      , \"max_depth\": [2,4,6]\n",
        "  }\n",
        "  ]\n",
        "  grid_search_dt = GridSearchCV(rfr, param_grid, cv=5, scoring=\"neg_mean_absolute_error\")\n",
        "  grid_search_dt.fit(X_train, Y_train)\n",
        "  BP = grid_search_dt.best_params_\n",
        "\n",
        "  rfr2 = RandomForestRegressor(max_depth = BP['max_depth'], n_estimators = BP['n_estimators'], random_state=0)\n",
        "  rfr2.fit(X_train, Y_train)\n",
        "\n",
        "  predicted = rfr2.predict(X_test)\n",
        "  mae_sklearn_val  = mean_absolute_error(Y_test, predicted)\n",
        "  print(f\"rfrmae: {mae_sklearn_val:.3f}\")\n",
        "\n",
        "  # fti = rfr2.feature_importances_\n",
        "  # labels = X.columns\n",
        "  # plt.figure(figsize = (10,6))\n",
        "  # plt.barh(y = range(len(fti)), width = fti)\n",
        "  # plt.yticks(ticks = range(len(labels)), labels = labels)\n",
        "  # plt.show()"
      ],
      "metadata": {
        "id": "4PvARNJadGjv"
      },
      "execution_count": null,
      "outputs": []
    },
    {
      "cell_type": "markdown",
      "source": [
        "<!-- JPN -->\n",
        "次にアダブーストです。今回は交差検証法を用いて、アダブーストで使用する決定木に対する適切なハイパーパラメータを決定します。そして求めたパラメータを用いた新しい決定木を使用してアダブーストで学習します。評価指標はMAEとし、探索するハイパーパラメータは以下の通りとします。\n",
        "\n",
        "|  変数  | パラメータの範囲  |\n",
        "| ---- | ---- |\n",
        "|  `max_depth` | `2, 4, 6, 8, 10`  |"
      ],
      "metadata": {
        "id": "iSlW8UZezw-v"
      }
    },
    {
      "cell_type": "code",
      "source": [
        "from sklearn.model_selection import train_test_split\n",
        "from sklearn.ensemble import AdaBoostRegressor\n",
        "from sklearn.tree import DecisionTreeRegressor\n",
        "from sklearn.model_selection import GridSearchCV\n",
        "from sklearn.model_selection import cross_val_score\n",
        "from sklearn.metrics import mean_absolute_error\n",
        "\n",
        "def AdaBoost(X, Y):\n",
        "  X_train, X_test, Y_train, Y_test = train_test_split(X, Y,\n",
        "                                                    test_size=0.2, random_state=0)\n",
        "\n",
        "  ab = AdaBoostRegressor(n_estimators = 10, random_state = 0)\n",
        "  param_grid = [  \n",
        "  {\n",
        "      \"base_estimator\": [DecisionTreeRegressor(max_depth = i, random_state=0) for i in range(2, 10, 2)]\n",
        "  }\n",
        "  ]\n",
        "  grid_search_dt = GridSearchCV(ab, param_grid, cv=5, scoring=\"neg_mean_absolute_error\")\n",
        "  grid_search_dt.fit(X_train, Y_train)\n",
        "  BP2 = grid_search_dt.best_params_\n",
        "\n",
        "  ab2 = AdaBoostRegressor(random_state=0, n_estimators = 10, base_estimator = BP2['base_estimator'])\n",
        "  ab2.fit(X_train, Y_train)\n",
        "\n",
        "  predicted = ab2.predict(X_test)\n",
        "  mae_sklearn_val  = mean_absolute_error(Y_test, predicted)\n",
        "  print(f\"abmae: {mae_sklearn_val:.3f}\")"
      ],
      "metadata": {
        "id": "MSXjcqVOjy7k"
      },
      "execution_count": null,
      "outputs": []
    },
    {
      "cell_type": "markdown",
      "source": [
        "<!-- JPN -->\n",
        "次にリッジ回帰です。今回は交差検証法を用いて、多項式リッジ回帰予測モデルに対する適切なハイパーパラメータを決定し、そのパラメータを用いて新しい多項式リッジ回帰予測モデルを学習します。評価指標はMAEとし、探索するハイパーパラメータは以下の通りとします。\n",
        "\n",
        "|  変数  | パラメータの範囲  |\n",
        "| ---- | ---- |\n",
        "|  次元数 `p` | `1, 2,`  |\n",
        "|  正則化項の重み `alpha`  | `0.01, 0.1, 1, 10` |"
      ],
      "metadata": {
        "id": "2Df8l3Eyz1-D"
      }
    },
    {
      "cell_type": "code",
      "source": [
        "from sklearn.model_selection import train_test_split\n",
        "from sklearn.linear_model import Ridge\n",
        "from sklearn.pipeline import make_pipeline\n",
        "from sklearn.preprocessing import PolynomialFeatures, StandardScaler\n",
        "from sklearn.model_selection import GridSearchCV\n",
        "from sklearn.model_selection import cross_val_score\n",
        "from sklearn.metrics import mean_absolute_error\n",
        "\n",
        "def RidgeRegression(X, Y):\n",
        "  X_train, X_test, Y_train, Y_test = train_test_split(X, Y,\n",
        "                                                    test_size=0.2, random_state=0)\n",
        "\n",
        "  for p in range(1, 2):\n",
        "    X_train_poly = PolynomialFeatures(degree=p, include_bias=False).fit_transform(X_train)\n",
        "    ss = StandardScaler()\n",
        "    X_train_poly_std = ss.fit_transform(X_train_poly)\n",
        "    r = Ridge()\n",
        "    param_grid = [  \n",
        "    {\n",
        "        \"alpha\": [0.01, 0.1, 1, 10]\n",
        "    }\n",
        "    ]\n",
        "    grid_search_dt = GridSearchCV(r, param_grid, cv=5, scoring=\"neg_mean_absolute_error\")\n",
        "    grid_search_dt.fit(X_train_poly_std, Y_train)\n",
        "\n",
        "    if p == 1:\n",
        "      BS = grid_search_dt.best_score_\n",
        "      BP = grid_search_dt.best_params_\n",
        "      n = p\n",
        "\n",
        "    if grid_search_dt.best_score_ < BS:\n",
        "      BS = grid_search_dt.best_score_\n",
        "      BP = grid_search_dt.best_params_\n",
        "      n = p\n",
        "\n",
        "  model_poly_ridge2 = make_pipeline(\n",
        "      PolynomialFeatures(degree = n, include_bias = False),\n",
        "      StandardScaler(),\n",
        "      Ridge(alpha = BP['alpha']))\n",
        "  model_poly_ridge2.fit(X_train, Y_train)\n",
        "\n",
        "  predicted = model_poly_ridge2.predict(X_test)\n",
        "  mae_sklearn_val = mean_absolute_error(Y_test, predicted)\n",
        "  print(f\"rrmae: {mae_sklearn_val:.3f}\")"
      ],
      "metadata": {
        "id": "6ESzePjdrQOp"
      },
      "execution_count": null,
      "outputs": []
    },
    {
      "cell_type": "markdown",
      "source": [
        "<!-- JPN -->\n",
        "最後にニューラルネットワークです。回帰予測を行う際に以下の様に設定しました。\n",
        "\n",
        "- ニューラルネットワークに入力する特徴量はあらかじめ標準化（あるいは正規化）しておく（これは分類予測でも同様である）。\n",
        "- 入力特徴量、出力特徴量共に `torch.float` にしておく。\n",
        "- 使用するモデルは多層パーセプトロンとする。\n",
        "- 1つの値を予測したいので、出力は1次元とする。\n",
        "- 損失関数を `torch.nn.L1Loss` にする。\n",
        "- 確率的勾配降下法 (stochastic gradient descent; SGD)をoptimizerとする。\n",
        "- 勾配消失を起こさないために活性化関数にReLU関数とする。\n",
        "- 過学習を抑える正則化の方法としてDropoutを用いる。\n",
        "\n",
        "ここでは、モデル `model` 、損失関数 `loss_fn`、および最適化手法 `opt` を引数とすることで、汎用的に学習や予測を行えるコードを作成してみました。"
      ],
      "metadata": {
        "id": "fM6Htn9Rz69z"
      }
    },
    {
      "cell_type": "code",
      "source": [
        "!pip install livelossplot"
      ],
      "metadata": {
        "colab": {
          "base_uri": "https://localhost:8080/"
        },
        "id": "9dBf3bSZAdUy",
        "outputId": "c943a0d0-cd95-4bd3-bb05-da059e564b4d"
      },
      "execution_count": null,
      "outputs": [
        {
          "output_type": "stream",
          "name": "stdout",
          "text": [
            "Looking in indexes: https://pypi.org/simple, https://us-python.pkg.dev/colab-wheels/public/simple/\n",
            "Collecting livelossplot\n",
            "  Downloading livelossplot-0.5.5-py3-none-any.whl (22 kB)\n",
            "Requirement already satisfied: matplotlib in /usr/local/lib/python3.8/dist-packages (from livelossplot) (3.2.2)\n",
            "Requirement already satisfied: bokeh in /usr/local/lib/python3.8/dist-packages (from livelossplot) (2.3.3)\n",
            "Requirement already satisfied: numpy>=1.11.3 in /usr/local/lib/python3.8/dist-packages (from bokeh->livelossplot) (1.21.6)\n",
            "Requirement already satisfied: pillow>=7.1.0 in /usr/local/lib/python3.8/dist-packages (from bokeh->livelossplot) (7.1.2)\n",
            "Requirement already satisfied: PyYAML>=3.10 in /usr/local/lib/python3.8/dist-packages (from bokeh->livelossplot) (6.0)\n",
            "Requirement already satisfied: Jinja2>=2.9 in /usr/local/lib/python3.8/dist-packages (from bokeh->livelossplot) (2.11.3)\n",
            "Requirement already satisfied: typing-extensions>=3.7.4 in /usr/local/lib/python3.8/dist-packages (from bokeh->livelossplot) (4.4.0)\n",
            "Requirement already satisfied: packaging>=16.8 in /usr/local/lib/python3.8/dist-packages (from bokeh->livelossplot) (23.0)\n",
            "Requirement already satisfied: python-dateutil>=2.1 in /usr/local/lib/python3.8/dist-packages (from bokeh->livelossplot) (2.8.2)\n",
            "Requirement already satisfied: tornado>=5.1 in /usr/local/lib/python3.8/dist-packages (from bokeh->livelossplot) (6.0.4)\n",
            "Requirement already satisfied: kiwisolver>=1.0.1 in /usr/local/lib/python3.8/dist-packages (from matplotlib->livelossplot) (1.4.4)\n",
            "Requirement already satisfied: pyparsing!=2.0.4,!=2.1.2,!=2.1.6,>=2.0.1 in /usr/local/lib/python3.8/dist-packages (from matplotlib->livelossplot) (3.0.9)\n",
            "Requirement already satisfied: cycler>=0.10 in /usr/local/lib/python3.8/dist-packages (from matplotlib->livelossplot) (0.11.0)\n",
            "Requirement already satisfied: MarkupSafe>=0.23 in /usr/local/lib/python3.8/dist-packages (from Jinja2>=2.9->bokeh->livelossplot) (2.0.1)\n",
            "Requirement already satisfied: six>=1.5 in /usr/local/lib/python3.8/dist-packages (from python-dateutil>=2.1->bokeh->livelossplot) (1.15.0)\n",
            "Installing collected packages: livelossplot\n",
            "Successfully installed livelossplot-0.5.5\n"
          ]
        }
      ]
    },
    {
      "cell_type": "code",
      "source": [
        "def calculate(model, loss_fn, loader, opt=None):\n",
        "  if opt is None:\n",
        "    model.eval()\n",
        "\n",
        "  whole_loss = 0\n",
        "  count = len(loader.dataset)\n",
        "  \n",
        "  for X, y in loader:\n",
        "    X, y = X.cuda(), y.cuda() # Transfer data to the GPU\n",
        "    y_pred = model(X) # Predict y from X \n",
        "    \n",
        "    loss = loss_fn(y_pred, y)  # Calculate the average of the losses in a mini-batch\n",
        "    whole_loss += loss.item()*len(y) # Calculate the total loss for the entire epoch\n",
        "    \n",
        "    # Update weights\n",
        "    if opt is not None:\n",
        "      opt.zero_grad()\n",
        "      loss.backward()\n",
        "      opt.step()\n",
        "    \n",
        "  mean_loss = whole_loss / count\n",
        "\n",
        "  if opt is None:\n",
        "    model.train()\n",
        "\n",
        "  return mean_loss"
      ],
      "metadata": {
        "id": "7RngK1aeDUNT"
      },
      "execution_count": null,
      "outputs": []
    },
    {
      "cell_type": "code",
      "source": [
        "from livelossplot import PlotLosses\n",
        "def train(model, loss_fn, opt, train_loader, valid_loader, epoch=50):\n",
        "  liveloss = PlotLosses() # Initialize the drawing\n",
        "  for i in range(epoch):\n",
        "    train_loss = calculate(model, loss_fn, train_loader, opt)\n",
        "    valid_loss = calculate(model, loss_fn, valid_loader)\n",
        "  \n",
        "    # Visualize the loss and accuracy values.\n",
        "    liveloss.update({\n",
        "        'loss': train_loss,\n",
        "        'val_loss': valid_loss,\n",
        "    })\n",
        "    liveloss.draw()  \n",
        "  return model # Return the trained model"
      ],
      "metadata": {
        "id": "tXBWoyu_DcZj"
      },
      "execution_count": null,
      "outputs": []
    },
    {
      "cell_type": "code",
      "source": [
        "from sklearn.preprocessing import StandardScaler\n",
        "from sklearn.model_selection import train_test_split\n",
        "import torch\n",
        "import numpy as np\n",
        "\n",
        "def NeuralNetwork(X, Y, d):\n",
        "  X_train, X_test, Y_train, Y_test = train_test_split(X, Y,\n",
        "                                                    test_size=0.2, random_state=0)\n",
        "  X_train_sub, X_valid, Y_train_sub, Y_valid = train_test_split(X_train, Y_train,\n",
        "                                                    test_size=0.2, random_state=0)\n",
        "  Y_train_sub = Y_train_sub.to_numpy()\n",
        "  Y_valid = Y_valid.to_numpy()\n",
        "  Y_test = Y_test.to_numpy()\n",
        "\n",
        "  ss = StandardScaler()\n",
        "  X_train_sub_std = ss.fit_transform(X_train_sub)\n",
        "  X_valid_std     = ss.transform(X_valid)\n",
        "  X_test_std     = ss.transform(X_test)\n",
        "\n",
        "  batch_size = 32\n",
        "\n",
        "  X_train_torch = torch.tensor(X_train_sub_std, dtype=torch.float)\n",
        "  X_valid_torch = torch.tensor(X_valid_std, dtype=torch.float)\n",
        "  X_test_torch = torch.tensor(X_test_std, dtype=torch.float)\n",
        "\n",
        "  Y_train_torch = torch.tensor(Y_train_sub.reshape(-1, 1), dtype=torch.float)\n",
        "  Y_valid_torch = torch.tensor(Y_valid.reshape(-1,1), dtype=torch.float)\n",
        "  Y_test_torch = torch.tensor(Y_test.reshape(-1,1), dtype=torch.float)\n",
        "\n",
        "  train_dataset = torch.utils.data.TensorDataset(X_train_torch, Y_train_torch)\n",
        "  valid_dataset = torch.utils.data.TensorDataset(X_valid_torch, Y_valid_torch)\n",
        "  test_dataset = torch.utils.data.TensorDataset(X_test_torch, Y_test_torch)\n",
        "\n",
        "  train_loader = torch.utils.data.DataLoader(train_dataset, batch_size=batch_size, shuffle=True)\n",
        "  valid_loader = torch.utils.data.DataLoader(valid_dataset, batch_size=batch_size, shuffle=True)\n",
        "  test_loader = torch.utils.data.DataLoader(test_dataset, batch_size=batch_size, shuffle=True)\n",
        "\n",
        "  torch.manual_seed(0)\n",
        "  torch.backends.cudnn.deterministic = True\n",
        "\n",
        "  mlp = torch.nn.Sequential(\n",
        "    torch.nn.Linear(len(X.columns), d),\n",
        "    torch.nn.ReLU(),\n",
        "    torch.nn.Dropout(0.5),\n",
        "    torch.nn.Linear(d, 1)\n",
        "  )\n",
        "  mlp.cuda()\n",
        "\n",
        "  loss_fn = torch.nn.L1Loss()\n",
        "  optimizer = torch.optim.SGD(mlp.parameters(), lr=0.01)\n",
        "\n",
        "  trained_model = train(mlp, loss_fn, optimizer, train_loader, valid_loader, epoch=100)\n",
        "\n",
        "  test_loss = calculate(trained_model, loss_fn, test_loader)\n",
        "  print(f\"nnmae: {test_loss:.3f}\")"
      ],
      "metadata": {
        "id": "9h2LzawmAiCo"
      },
      "execution_count": null,
      "outputs": []
    },
    {
      "cell_type": "markdown",
      "source": [
        "<!-- JPN -->\n",
        "## 2 | One-Hotエンコーディング\n",
        "\n",
        "OneーHotエンコーディングとは、対象のカテゴリー変数の構成要素分の変数を作成し、作り出した各変数は行単位で「該当なし:0、該当あり:1」を変換する手法です。"
      ],
      "metadata": {
        "id": "MsbziceR-mvH"
      }
    },
    {
      "cell_type": "markdown",
      "source": [
        "<!-- JPN -->\n",
        "データに存在する\"Platform\"、\"Publisher\"、\"Genre\"に対してOne-Hotエンコーディングを施し、それぞれの回帰分析手法を適用し、最適な手法を決定します。"
      ],
      "metadata": {
        "id": "Ce6DbqPb_BII"
      }
    },
    {
      "cell_type": "code",
      "source": [
        "df_oh = pd.get_dummies(df)\n",
        "print(df_oh.columns)"
      ],
      "metadata": {
        "id": "TUW3_2pHa5e3",
        "colab": {
          "base_uri": "https://localhost:8080/"
        },
        "outputId": "82c3a199-0e36-48eb-c483-01e8f0fbae7b"
      },
      "execution_count": null,
      "outputs": [
        {
          "output_type": "stream",
          "name": "stdout",
          "text": [
            "Index(['Year', 'NA_Sales', 'EU_Sales', 'JP_Sales', 'Global_Sales',\n",
            "       'Platform_2600', 'Platform_3DO', 'Platform_3DS', 'Platform_DC',\n",
            "       'Platform_DS',\n",
            "       ...\n",
            "       'Publisher_Zushi Games', 'Publisher_bitComposer Games',\n",
            "       'Publisher_dramatic create', 'Publisher_fonfun', 'Publisher_iWin',\n",
            "       'Publisher_id Software', 'Publisher_imageepoch Inc.',\n",
            "       'Publisher_inXile Entertainment', 'Publisher_mixi, Inc',\n",
            "       'Publisher_responDESIGN'],\n",
            "      dtype='object', length=626)\n"
          ]
        }
      ]
    },
    {
      "cell_type": "code",
      "source": [
        "print(df_oh.describe().loc[\"count\"])"
      ],
      "metadata": {
        "colab": {
          "base_uri": "https://localhost:8080/"
        },
        "id": "x1GKHoa9tO8I",
        "outputId": "e1f86729-e15d-4b3b-a02a-54d0c8ea5fb1"
      },
      "execution_count": null,
      "outputs": [
        {
          "output_type": "stream",
          "name": "stdout",
          "text": [
            "Year                              16327.0\n",
            "NA_Sales                          16598.0\n",
            "EU_Sales                          16598.0\n",
            "JP_Sales                          16598.0\n",
            "Global_Sales                      16598.0\n",
            "                                   ...   \n",
            "Publisher_id Software             16598.0\n",
            "Publisher_imageepoch Inc.         16598.0\n",
            "Publisher_inXile Entertainment    16598.0\n",
            "Publisher_mixi, Inc               16598.0\n",
            "Publisher_responDESIGN            16598.0\n",
            "Name: count, Length: 626, dtype: float64\n"
          ]
        }
      ]
    },
    {
      "cell_type": "code",
      "source": [
        "A1 = df_oh.describe().loc[\"count\"] != 16598.0\n",
        "print(A1[A1 == True])"
      ],
      "metadata": {
        "colab": {
          "base_uri": "https://localhost:8080/"
        },
        "id": "IOww8otJlNRI",
        "outputId": "6a59cc94-3250-4ed3-fc05-c03775dce378"
      },
      "execution_count": null,
      "outputs": [
        {
          "output_type": "stream",
          "name": "stdout",
          "text": [
            "Year    True\n",
            "Name: count, dtype: bool\n"
          ]
        }
      ]
    },
    {
      "cell_type": "code",
      "source": [
        "df_oh = df_oh.dropna()"
      ],
      "metadata": {
        "id": "o6CSflQsZFmm"
      },
      "execution_count": null,
      "outputs": []
    },
    {
      "cell_type": "code",
      "source": [
        "print(df_oh.describe().loc[\"count\"])"
      ],
      "metadata": {
        "colab": {
          "base_uri": "https://localhost:8080/"
        },
        "id": "YYTHfis1_LEx",
        "outputId": "34f14047-ccf7-46ba-e42c-4895764820a9"
      },
      "execution_count": null,
      "outputs": [
        {
          "output_type": "stream",
          "name": "stdout",
          "text": [
            "Year                              16327.0\n",
            "NA_Sales                          16327.0\n",
            "EU_Sales                          16327.0\n",
            "JP_Sales                          16327.0\n",
            "Global_Sales                      16327.0\n",
            "                                   ...   \n",
            "Publisher_id Software             16327.0\n",
            "Publisher_imageepoch Inc.         16327.0\n",
            "Publisher_inXile Entertainment    16327.0\n",
            "Publisher_mixi, Inc               16327.0\n",
            "Publisher_responDESIGN            16327.0\n",
            "Name: count, Length: 626, dtype: float64\n"
          ]
        }
      ]
    },
    {
      "cell_type": "code",
      "source": [
        "A2 = df_oh.describe().loc[\"count\"] != 16327.0\n",
        "print(A2[A2 == True])"
      ],
      "metadata": {
        "colab": {
          "base_uri": "https://localhost:8080/"
        },
        "id": "NFbeYLZvt4gZ",
        "outputId": "52091ca6-bfd2-48dd-9640-a92b4ab9df4e"
      },
      "execution_count": null,
      "outputs": [
        {
          "output_type": "stream",
          "name": "stdout",
          "text": [
            "Series([], Name: count, dtype: bool)\n"
          ]
        }
      ]
    },
    {
      "cell_type": "code",
      "source": [
        "Y1 = df_oh[\"NA_Sales\"]\n",
        "Y2 = df_oh[\"EU_Sales\"]\n",
        "Y3 = df_oh[\"JP_Sales\"]\n",
        "Y4 = df_oh[\"Global_Sales\"]\n",
        "\n",
        "df_oh2 = df_oh.drop(\"NA_Sales\", axis = 1)\n",
        "df_oh3 = df_oh2.drop(\"EU_Sales\", axis = 1)\n",
        "df_oh4 = df_oh3.drop(\"JP_Sales\", axis = 1)\n",
        "X = df_oh4.drop(\"Global_Sales\", axis = 1)"
      ],
      "metadata": {
        "id": "CXfpmAlRDaTB"
      },
      "execution_count": null,
      "outputs": []
    },
    {
      "cell_type": "markdown",
      "source": [
        "<!-- JPN -->\n",
        "One-Hotエンコーディングを適用し、欠損値の存在する行を削除したので早速回帰分析を行います。"
      ],
      "metadata": {
        "id": "B9Q2MdkAA9iz"
      }
    },
    {
      "cell_type": "code",
      "source": [
        "RandomForest(X, Y4)"
      ],
      "metadata": {
        "id": "UD-efj0GuHR9",
        "colab": {
          "base_uri": "https://localhost:8080/"
        },
        "outputId": "52b1c0d0-4eab-45a4-95a2-f72acd8fd6cf"
      },
      "execution_count": null,
      "outputs": [
        {
          "output_type": "stream",
          "name": "stdout",
          "text": [
            "rfrmae: 0.518\n"
          ]
        }
      ]
    },
    {
      "cell_type": "code",
      "source": [
        "AdaBoost(X, Y4)"
      ],
      "metadata": {
        "colab": {
          "base_uri": "https://localhost:8080/"
        },
        "id": "YDggBWW1AVkr",
        "outputId": "46aebbd7-e09e-4761-bc98-c2e405f47826"
      },
      "execution_count": null,
      "outputs": [
        {
          "output_type": "stream",
          "name": "stdout",
          "text": [
            "abmae: 0.540\n"
          ]
        }
      ]
    },
    {
      "cell_type": "code",
      "source": [
        "RidgeRegression(X, Y4)"
      ],
      "metadata": {
        "colab": {
          "base_uri": "https://localhost:8080/"
        },
        "id": "k_Rn5OjpAkV8",
        "outputId": "9df1904f-82e6-45e3-f415-791d29bd0d65"
      },
      "execution_count": null,
      "outputs": [
        {
          "output_type": "stream",
          "name": "stdout",
          "text": [
            "rrmae: 0.536\n"
          ]
        }
      ]
    },
    {
      "cell_type": "code",
      "source": [
        "NeuralNetwork(X, Y4, 50)"
      ],
      "metadata": {
        "colab": {
          "base_uri": "https://localhost:8080/",
          "height": 657
        },
        "id": "QciNnIFAAsX6",
        "outputId": "d1563291-6c31-4cab-f259-2d68a78a4777"
      },
      "execution_count": null,
      "outputs": [
        {
          "output_type": "display_data",
          "data": {
            "text/plain": [
              "<Figure size 864x576 with 2 Axes>"
            ],
            "image/png": "[encoded data removed]"
          },
          "metadata": {
            "needs_background": "light"
          }
        },
        {
          "output_type": "stream",
          "name": "stdout",
          "text": [
            "Loss\n",
            "\ttraining         \t (min:    0.420, max:    0.493, cur:    0.420)\n",
            "\tvalidation       \t (min:    0.375, max:    0.418, cur:    0.376)\n",
            "nnmae: 0.417\n"
          ]
        }
      ]
    },
    {
      "cell_type": "markdown",
      "source": [
        "<!-- JPN -->\n",
        "## 3 | カウントエンコーディング\n",
        "\n",
        "カウント（Frequency）エンコーディングとは、特徴量の各値の出現頻度で置き換える手法です。エンコーディング後の値の大小（出現頻度）に意味が発生します。"
      ],
      "metadata": {
        "id": "E14unWpHBV3K"
      }
    },
    {
      "cell_type": "markdown",
      "source": [
        "<!-- JPN -->\n",
        "データに存在する\"Platform\"、\"Publisher\"、\"Genre\"に対してカウントエンコーディングを施し、それぞれの回帰分析手法を適用し、最適な手法を決定します。"
      ],
      "metadata": {
        "id": "ZSLEIExiBhM2"
      }
    },
    {
      "cell_type": "code",
      "source": [
        "df_c = df.copy()\n",
        "count_Platform = df_c['Platform'].value_counts().to_dict()\n",
        "print(count_Platform)\n",
        "df_c['Platform_count'] = df_c['Platform'].map(count_Platform)\n",
        "print(df_c.head())"
      ],
      "metadata": {
        "colab": {
          "base_uri": "https://localhost:8080/"
        },
        "id": "8qsGY0N66VSz",
        "outputId": "fa6cf9d1-40a9-42dc-d1d5-09da57f19b3a"
      },
      "execution_count": null,
      "outputs": [
        {
          "output_type": "stream",
          "name": "stdout",
          "text": [
            "{'DS': 2163, 'PS2': 2161, 'PS3': 1329, 'Wii': 1325, 'X360': 1265, 'PSP': 1213, 'PS': 1196, 'PC': 960, 'XB': 824, 'GBA': 822, 'GC': 556, '3DS': 509, 'PSV': 413, 'PS4': 336, 'N64': 319, 'SNES': 239, 'XOne': 213, 'SAT': 173, 'WiiU': 143, '2600': 133, 'NES': 98, 'GB': 98, 'DC': 52, 'GEN': 27, 'NG': 12, 'SCD': 6, 'WS': 6, '3DO': 3, 'TG16': 2, 'GG': 1, 'PCFX': 1}\n",
            "  Platform    Year         Genre Publisher  NA_Sales  EU_Sales  JP_Sales  \\\n",
            "0      Wii  2006.0        Sports  Nintendo     41.49     29.02      3.77   \n",
            "1      NES  1985.0      Platform  Nintendo     29.08      3.58      6.81   \n",
            "2      Wii  2008.0        Racing  Nintendo     15.85     12.88      3.79   \n",
            "3      Wii  2009.0        Sports  Nintendo     15.75     11.01      3.28   \n",
            "4       GB  1996.0  Role-Playing  Nintendo     11.27      8.89     10.22   \n",
            "\n",
            "   Global_Sales  Platform_count  \n",
            "0         82.74            1325  \n",
            "1         40.24              98  \n",
            "2         35.82            1325  \n",
            "3         33.00            1325  \n",
            "4         31.37              98  \n"
          ]
        }
      ]
    },
    {
      "cell_type": "code",
      "source": [
        "count_Publisher = df_c['Publisher'].value_counts().to_dict()\n",
        "print(count_Publisher)\n",
        "df_c['Publisher_count'] = df_c['Publisher'].map(count_Publisher)\n",
        "print(df_c.head())"
      ],
      "metadata": {
        "colab": {
          "base_uri": "https://localhost:8080/"
        },
        "id": "sMIHB8m_82b1",
        "outputId": "07ab3ea3-eb7b-460f-d315-1bef72bc45bb"
      },
      "execution_count": null,
      "outputs": [
        {
          "output_type": "stream",
          "name": "stdout",
          "text": [
            "{'Electronic Arts': 1351, 'Activision': 975, 'Namco Bandai Games': 932, 'Ubisoft': 921, 'Konami Digital Entertainment': 832, 'THQ': 715, 'Nintendo': 703, 'Sony Computer Entertainment': 683, 'Sega': 639, 'Take-Two Interactive': 413, 'Capcom': 381, 'Atari': 363, 'Tecmo Koei': 338, 'Square Enix': 233, 'Warner Bros. Interactive Entertainment': 232, 'Disney Interactive Studios': 218, 'Unknown': 203, 'Midway Games': 198, 'Eidos Interactive': 198, '505 Games': 192, 'Microsoft Game Studios': 189, 'D3Publisher': 184, 'Acclaim Entertainment': 184, 'Vivendi Games': 164, 'Codemasters': 152, 'Idea Factory': 129, 'Deep Silver': 122, 'Nippon Ichi Software': 105, 'Zoo Digital Publishing': 104, 'Majesco Entertainment': 92, 'LucasArts': 90, 'Rising Star Games': 86, 'Hudson Soft': 81, 'Banpresto': 73, 'Bethesda Softworks': 71, 'Crave Entertainment': 71, 'Atlus': 67, 'Virgin Interactive': 62, 'Infogrames': 62, 'Ignition Entertainment': 61, '5pb': 61, 'Focus Home Interactive': 58, 'Marvelous Interactive': 56, 'Empire Interactive': 52, 'SquareSoft': 52, 'Kadokawa Shoten': 50, 'Destineer': 45, 'DTP Entertainment': 45, 'GT Interactive': 45, 'Alchemist': 43, 'MTV Games': 41, 'PQube': 39, 'Global Star': 39, 'Spike': 37, 'SouthPeak Games': 37, 'Takara Tomy': 37, 'TDK Mediactive': 36, '3DO': 36, 'BAM! Entertainment': 35, 'Nordic Games': 35, 'Black Bean Games': 34, 'Zoo Games': 33, 'Psygnosis': 32, 'Game Factory': 32, 'Mindscape': 32, 'Interplay': 30, 'Enix Corporation': 30, 'Activision Value': 29, 'Kalypso Media': 29, 'FuRyu': 27, 'Level 5': 27, 'Prototype': 27, 'Avanquest': 26, 'Arc System Works': 26, 'Little Orbit': 26, 'Telltale Games': 25, 'Midas Interactive Entertainment': 24, 'Universal Interactive': 23, 'Paradox Interactive': 23, 'Jaleco': 23, 'Aqua Plus': 23, 'SNK': 22, 'JoWood Productions': 22, 'Broccoli': 22, 'Oxygen Interactive': 22, 'Kemco': 21, 'ASCII Entertainment': 20, 'Compile Heart': 20, 'Storm City Games': 19, 'Taito': 19, 'Titus': 19, 'Success': 19, 'City Interactive': 19, 'Zushi Games': 18, 'SNK Playmore': 18, 'Tomy Corporation': 18, 'ChunSoft': 18, 'O-Games': 17, 'Rocket Company': 17, 'SCi': 17, 'DreamCatcher Interactive': 17, 'Natsume': 17, 'Koch Media': 17, 'Mastiff': 16, 'Milestone S.r.l.': 16, 'Imagineer': 16, 'Takara': 16, 'Hasbro Interactive': 16, 'UFO Interactive': 16, 'GSP': 16, 'Falcom Corporation': 16, 'Enterbrain': 15, 'Kadokawa Games': 15, 'From Software': 15, 'Sony Computer Entertainment Europe': 15, 'Ghostlight': 15, 'PopCap Games': 15, 'Ubisoft Annecy': 14, 'Rondomedia': 14, 'System 3 Arcade Software': 14, 'Playlogic Game Factory': 14, 'Quinrose': 14, 'CyberFront': 14, 'Ocean': 14, '989 Studios': 14, 'Conspiracy Entertainment': 14, 'Play It': 14, 'GungHo': 13, 'Bigben Interactive': 13, 'Nobilis': 13, 'Mastertronic': 13, 'Human Entertainment': 13, 'Acquire': 13, 'Gust': 13, 'Destination Software, Inc': 12, 'XS Games': 12, 'Marvelous Entertainment': 12, 'Irem Software Engineering': 12, 'Metro 3D': 12, 'Mattel Interactive': 12, 'Yeti': 11, 'Hudson Entertainment': 11, 'Sammy Corporation': 11, 'Starfish': 10, 'Brash Entertainment': 10, 'Cave': 10, 'Xplosiv': 10, 'Ackkstudios': 10, 'Sunsoft': 10, 'Microids': 10, 'Popcorn Arcade': 10, 'Scholastic Inc.': 10, 'Victor Interactive': 9, 'ArtDink': 9, 'ASCII Media Works': 9, 'Gremlin Interactive Ltd': 9, 'NewKidCo': 9, 'Gathering of Developers': 9, 'Avanquest Software': 9, 'Foreign Media Games': 9, 'Sting': 9, 'MTO': 8, 'Asgard': 8, 'Valcon Games': 8, 'JVC': 8, 'Telegames': 8, 'RTL': 8, 'Sony Online Entertainment': 8, 'Agetec': 8, 'Aspyr': 8, 'Fox Interactive': 8, 'Evolved Games': 8, 'NEC Interchannel': 8, 'Tru Blu Entertainment': 8, 'GameMill Entertainment': 8, 'Aksys Games': 8, 'Genki': 8, 'LEGO Media': 7, 'BMG Interactive Entertainment': 7, 'Nihon Falcom Corporation': 7, 'Rage Software': 7, 'Parker Bros.': 7, 'Big Ben Interactive': 7, 'Neko Entertainment': 7, 'Nippon Columbia': 7, 'Gotham Games': 7, 'Reef Entertainment': 7, 'Hackberry': 7, 'Epoch': 7, 'Comfort': 6, 'Swing! Entertainment': 6, 'Mumbo Jumbo': 6, 'Kaga Create': 6, 'Alternative Software': 6, 'Seta Corporation': 6, 'Benesse': 6, 'Graffiti': 6, 'Paon': 6, 'CDV Software Entertainment': 6, 'Asylum Entertainment': 6, 'Idea Factory International': 6, 'DSI Games': 6, 'Avalon Interactive': 6, 'Astragon': 6, 'Blast! Entertainment Ltd': 6, 'Screenlife': 6, 'Funbox Media': 6, 'Square': 6, 'Russel': 6, 'Microprose': 6, 'Compile': 6, 'NCSoft': 6, 'IE Institute': 5, 'Media Works': 5, 'Happinet': 5, 'Pinnacle': 5, 'AQ Interactive': 5, 'Tommo': 5, 'ESP': 5, 'Mojang': 5, 'Nordcurrent': 5, 'Mentor Interactive': 5, 'Coleco': 5, 'Time Warner Interactive': 5, 'bitComposer Games': 5, 'Crystal Dynamics': 5, 'TDK Core': 5, 'Hip Interactive': 5, 'Wanadoo': 5, '20th Century Fox Video Games': 5, 'The Adventure Company': 5, 'Shogakukan': 5, 'Home Entertainment Suppliers': 5, 'dramatic create': 5, 'Encore': 4, 'PlayV': 4, 'ValuSoft': 4, 'Mercury Games': 4, '7G//AMES': 4, 'System Soft': 4, 'Trion Worlds': 4, 'Laguna': 4, 'Xseed Games': 4, 'Culture Brain': 4, 'Video System': 4, 'U.S. Gold': 4, 'TGL': 4, 'Knowledge Adventure': 4, 'Interchannel': 4, 'Excalibur Publishing': 4, 'Touchstone': 4, 'TopWare Interactive': 4, 'LSP Games': 4, 'Slitherine Software': 4, 'Phenomedia': 4, 'Imagic': 4, 'Funsta': 4, 'Pioneer LDC': 4, 'KID': 4, 'Gamecock': 4, 'RedOctane': 4, 'Global A Entertainment': 4, 'Sunrise Interactive': 4, 'Daito': 4, 'Telstar': 3, 'Slightly Mad Studios': 3, 'Yacht Club Games': 3, 'Data Design Interactive': 3, 'Focus Multimedia': 3, 'Red Storm Entertainment': 3, 'O3 Entertainment': 3, 'Xicat Interactive': 3, 'Experience Inc.': 3, 'Iceberg Interactive': 3, 'MC2 Entertainment': 3, 'Tradewest': 3, '1C Company': 3, 'Princess Soft': 3, 'Arika': 3, 'Maxis': 3, 'Creative Core': 3, 'Ascaron Entertainment GmbH': 3, 'Insomniac Games': 3, '10TACLE Studios': 3, 'Tivola': 3, 'Valve Software': 3, 'Myelin Media': 3, 'Daedalic Entertainment': 3, 'System 3': 3, 'GN Software': 3, \"Yuke's\": 3, 'Asmik Ace Entertainment': 3, 'Licensed 4U': 3, 'Micro Cabin': 3, 'ASC Games': 3, 'Accolade': 3, 'Minato Station': 3, 'Daedalic': 3, 'DHM Interactive': 3, 'Angel Studios': 3, 'Aruze Corp': 3, 'Tigervision': 3, 'Essential Games': 3, 'Agatsuma Entertainment': 3, 'Jack of All Games': 3, 'P2 Games': 3, 'NovaLogic': 3, 'Jorudan': 3, 'Media Rings': 3, 'NCS': 3, 'Jester Interactive': 3, 'NEC': 3, 'Indie Games': 3, 'Mud Duck Productions': 3, 'Mad Catz': 3, 'Hect': 3, 'Sony Computer Entertainment America': 3, 'Vir2L Studios': 3, 'Lexicon Entertainment': 2, 'Asmik Corp': 2, 'Magix': 2, 'HMH Interactive': 2, 'Misawa': 2, 'Easy Interactive': 2, 'Gamebridge': 2, 'Mamba Games': 2, 'Dusenberry Martin Racing': 2, 'responDESIGN': 2, 'Electronic Arts Victor': 2, 'Coconuts Japan': 2, 'Office Create': 2, 'imageepoch Inc.': 2, 'Big Fish Games': 2, 'Nitroplus': 2, 'Athena': 2, 'Edia': 2, 'Liquid Games': 2, 'Crimson Cow': 2, 'Harmonix Music Systems': 2, 'Groove Games': 2, 'Pack-In-Video': 2, 'Hamster Corporation': 2, 'Rebellion': 2, 'Data Age': 2, 'Flight-Plan': 2, 'G.Rev': 2, 'Sweets': 2, 'Vatical Entertainment': 2, 'Devolver Digital': 2, 'Revolution Software': 2, 'Blue Byte': 2, 'Elf': 2, 'Views': 2, 'Alawar Entertainment': 2, 'Core Design Ltd.': 2, 'Aerosoft': 2, 'NetRevo': 2, 'Virtual Play Games': 2, 'Funcom': 2, 'Dorart': 2, 'Alvion': 2, 'Milestone S.r.l': 2, 'Red Orb': 2, 'CTO SpA': 2, 'Zenrin': 2, 'Sonnet': 2, 'BPS': 2, 'Performance Designed Products': 2, 'Flashpoint Games': 2, 'Moss': 2, 'Syscom': 2, 'Gainax Network Systems': 2, 'Rebellion Developments': 2, 'Data East': 2, 'Datam Polystar': 2, 'Media Factory': 2, 'Nippon Telenet': 2, 'Vic Tokai': 2, 'Arena Entertainment': 2, 'HuneX': 2, 'Cloud Imperium Games Corporation': 2, 'Yamasa Entertainment': 2, 'Gakken': 2, 'Game Life': 2, 'Headup Games': 1, 'Otomate': 1, 'Societa': 1, 'Her Interactive': 1, 'Ongakukan': 1, 'Rain Games': 1, 'KSS': 1, 'Just Flight': 1, 'Fields': 1, 'Interchannel-Holon': 1, 'Takuyo': 1, 'Inti Creates': 1, 'Maximum Family Games': 1, 'Berkeley': 1, 'Kando Games': 1, 'Fuji': 1, '2D Boy': 1, 'Commseed': 1, 'Ivolgamus': 1, 'Kamui': 1, 'ASK': 1, 'Saurus': 1, 'Nexon': 1, 'Paradox Development': 1, 'Cygames': 1, 'Graphsim Entertainment': 1, 'Masque Publishing': 1, 'King Records': 1, 'Introversion Software': 1, 'Lighthouse Interactive': 1, 'Sold Out': 1, 'Gaga': 1, 'Warashi': 1, 'Giga': 1, 'Plenty': 1, 'fonfun': 1, 'Mycom': 1, 'Codemasters Online': 1, 'Quintet': 1, 'Visco': 1, 'Phoenix Games': 1, 'Giza10': 1, 'Marvelous Games': 1, 'Imageworks': 1, 'Karin Entertainment': 1, 'Revolution (Japan)': 1, 'Technos Japan Corporation': 1, 'Mirai Shounen': 1, 'GOA': 1, 'Kids Station': 1, 'Paon Corporation': 1, 'Number None': 1, 'Piacci': 1, 'Sunflowers': 1, 'Ascaron Entertainment': 1, 'Naxat Soft': 1, 'Epic Games': 1, 'EON Digital Entertainment': 1, 'Stainless Games': 1, 'Extreme Entertainment Group': 1, 'Intergrow': 1, 'Kokopeli Digital Studios': 1, 'id Software': 1, 'RED Entertainment': 1, 'BushiRoad': 1, 'Tryfirst': 1, 'Strategy First': 1, 'Boost On': 1, 'Interworks Unlimited, Inc.': 1, 'Genterprise': 1, 'New World Computing': 1, 'Media Entertainment': 1, 'Michaelsoft': 1, 'FuRyu Corporation': 1, 'Palcom': 1, 'ITT Family Games': 1, 'Legacy Interactive': 1, 'mixi, Inc': 1, 'Illusion Softworks': 1, 'Quest': 1, 'Men-A-Vision': 1, 'Aques': 1, 'White Park Bay Software': 1, 'EA Games': 1, 'Game Arts': 1, 'Square EA': 1, 'General Entertainment': 1, 'Imadio': 1, 'Mystique': 1, 'Sony Music Entertainment': 1, 'Quelle': 1, 'Adeline Software': 1, 'Tripwire Interactive': 1, 'TalonSoft': 1, 'SCS Software': 1, 'Havas Interactive': 1, 'DreamWorks Interactive': 1, 'FunSoft': 1, 'SPS': 1, 'Bohemia Interactive': 1, 'T&E Soft': 1, 'NDA Productions': 1, 'Gameloft': 1, 'Simon & Schuster Interactive': 1, 'Panther Software': 1, 'Universal Gamex': 1, '49Games': 1, 'Ultravision': 1, 'Starpath Corp.': 1, '989 Sports': 1, 'CokeM Interactive': 1, 'CBS Electronics': 1, 'Wargaming.net': 1, 'Playmates': 1, 'Magical Company': 1, 'Nichibutsu': 1, 'TYO': 1, 'Pacific Century Cyber Works': 1, 'Axela': 1, 'Tetris Online': 1, 'Xing Entertainment': 1, 'Wizard Video Games': 1, 'Detn8 Games': 1, 'American Softworks': 1, 'Bomb': 1, 'Pack In Soft': 1, 'CCP': 1, 'Activision Blizzard': 1, 'Sears': 1, 'Answer Software': 1, 'On Demand': 1, 'CPG Products': 1, 'Merscom LLC': 1, 'SSI': 1, 'Black Label Games': 1, 'PopTop Software': 1, 'TOHO': 1, 'TechnoSoft': 1, 'Imax': 1, 'Ecole': 1, 'Yumedia': 1, 'HAL Laboratory': 1, 'Grand Prix Games': 1, 'DigiCube': 1, 'WayForward Technologies': 1, 'UEP Systems': 1, 'Ertain': 1, 'Marvel Entertainment': 1, 'Phantagram': 1, 'The Learning Company': 1, 'Vap': 1, 'Westwood Studios': 1, 'Team17 Software': 1, 'Pow': 1, 'Navarre Corp': 1, 'MediaQuest': 1, 'Max Five': 1, 'Monte Christo Multimedia': 1, 'Pony Canyon': 1, 'Riverhillsoft': 1, 'Summitsoft': 1, 'Playmore': 1, 'MLB.com': 1, 'Kool Kizz': 1, 'Fortyfive': 1, 'iWin': 1, 'Altron': 1, 'Aria': 1, 'PM Studios': 1, 'Hello Games': 1, 'GameTek': 1, 'Type-Moon': 1, 'Enjoy Gaming ltd.': 1, 'Interplay Productions': 1, 'inXile Entertainment': 1, 'Image Epoch': 1, 'Phantom EFX': 1, 'Culture Publishers': 1, 'Griffin International': 1, 'Valve': 1, 'Hearty Robin': 1, 'Nippon Amuse': 1, 'Origin Systems': 1, 'Seventh Chord': 1, 'Mitsui': 1, 'Milestone': 1, 'Abylight': 1, 'Glams': 1, 'Locus': 1, 'Warp': 1, 'New': 1, 'Elite': 1, 'Evolution Games': 1, 'UIG Entertainment': 1}\n",
            "  Platform    Year         Genre Publisher  NA_Sales  EU_Sales  JP_Sales  \\\n",
            "0      Wii  2006.0        Sports  Nintendo     41.49     29.02      3.77   \n",
            "1      NES  1985.0      Platform  Nintendo     29.08      3.58      6.81   \n",
            "2      Wii  2008.0        Racing  Nintendo     15.85     12.88      3.79   \n",
            "3      Wii  2009.0        Sports  Nintendo     15.75     11.01      3.28   \n",
            "4       GB  1996.0  Role-Playing  Nintendo     11.27      8.89     10.22   \n",
            "\n",
            "   Global_Sales  Platform_count  Publisher_count  \n",
            "0         82.74            1325            703.0  \n",
            "1         40.24              98            703.0  \n",
            "2         35.82            1325            703.0  \n",
            "3         33.00            1325            703.0  \n",
            "4         31.37              98            703.0  \n"
          ]
        }
      ]
    },
    {
      "cell_type": "code",
      "source": [
        "count_Genre = df_c['Genre'].value_counts().to_dict()\n",
        "print(count_Genre)\n",
        "df_c['Genre_count'] = df_c['Genre'].map(count_Genre)\n",
        "print(df_c.head())"
      ],
      "metadata": {
        "colab": {
          "base_uri": "https://localhost:8080/"
        },
        "id": "jfYdRFkBAcv8",
        "outputId": "fbfe8fff-c3b4-43e0-835f-d1d73bb1f955"
      },
      "execution_count": null,
      "outputs": [
        {
          "output_type": "stream",
          "name": "stdout",
          "text": [
            "{'Action': 3316, 'Sports': 2346, 'Misc': 1739, 'Role-Playing': 1488, 'Shooter': 1310, 'Adventure': 1286, 'Racing': 1249, 'Platform': 886, 'Simulation': 867, 'Fighting': 848, 'Strategy': 681, 'Puzzle': 582}\n",
            "  Platform    Year         Genre Publisher  NA_Sales  EU_Sales  JP_Sales  \\\n",
            "0      Wii  2006.0        Sports  Nintendo     41.49     29.02      3.77   \n",
            "1      NES  1985.0      Platform  Nintendo     29.08      3.58      6.81   \n",
            "2      Wii  2008.0        Racing  Nintendo     15.85     12.88      3.79   \n",
            "3      Wii  2009.0        Sports  Nintendo     15.75     11.01      3.28   \n",
            "4       GB  1996.0  Role-Playing  Nintendo     11.27      8.89     10.22   \n",
            "\n",
            "   Global_Sales  Platform_count  Publisher_count  Genre_count  \n",
            "0         82.74            1325            703.0         2346  \n",
            "1         40.24              98            703.0          886  \n",
            "2         35.82            1325            703.0         1249  \n",
            "3         33.00            1325            703.0         2346  \n",
            "4         31.37              98            703.0         1488  \n"
          ]
        }
      ]
    },
    {
      "cell_type": "code",
      "source": [
        "print(df_c.describe().loc[\"count\"])"
      ],
      "metadata": {
        "colab": {
          "base_uri": "https://localhost:8080/"
        },
        "id": "cDPoUBLO-BAq",
        "outputId": "29416a20-6498-4402-90bd-5bb9a63a4fa1"
      },
      "execution_count": null,
      "outputs": [
        {
          "output_type": "stream",
          "name": "stdout",
          "text": [
            "Year               16327.0\n",
            "NA_Sales           16598.0\n",
            "EU_Sales           16598.0\n",
            "JP_Sales           16598.0\n",
            "Global_Sales       16598.0\n",
            "Platform_count     16598.0\n",
            "Publisher_count    16540.0\n",
            "Genre_count        16598.0\n",
            "Name: count, dtype: float64\n"
          ]
        }
      ]
    },
    {
      "cell_type": "code",
      "source": [
        "B1 = df_c.describe().loc[\"count\"] != 16598.0\n",
        "print(B1[B1 == True])"
      ],
      "metadata": {
        "colab": {
          "base_uri": "https://localhost:8080/"
        },
        "id": "-er3BI5J-a7A",
        "outputId": "f0b0c843-e8b8-4254-dd2a-a63882bd0832"
      },
      "execution_count": null,
      "outputs": [
        {
          "output_type": "stream",
          "name": "stdout",
          "text": [
            "Year               True\n",
            "Publisher_count    True\n",
            "Name: count, dtype: bool\n"
          ]
        }
      ]
    },
    {
      "cell_type": "code",
      "source": [
        "df_c = df_c.dropna()"
      ],
      "metadata": {
        "id": "G6L5ywi9-1LL"
      },
      "execution_count": null,
      "outputs": []
    },
    {
      "cell_type": "code",
      "source": [
        "print(df_c.describe().loc[\"count\"])"
      ],
      "metadata": {
        "colab": {
          "base_uri": "https://localhost:8080/"
        },
        "id": "O-8k5-QM_bO4",
        "outputId": "19f755a3-ad73-4042-9e42-9a4ee9ac603a"
      },
      "execution_count": null,
      "outputs": [
        {
          "output_type": "stream",
          "name": "stdout",
          "text": [
            "Year               16291.0\n",
            "NA_Sales           16291.0\n",
            "EU_Sales           16291.0\n",
            "JP_Sales           16291.0\n",
            "Global_Sales       16291.0\n",
            "Platform_count     16291.0\n",
            "Publisher_count    16291.0\n",
            "Genre_count        16291.0\n",
            "Name: count, dtype: float64\n"
          ]
        }
      ]
    },
    {
      "cell_type": "code",
      "source": [
        "B2 = df_c.describe().loc[\"count\"] != 16291.0\n",
        "print(B2[B2 == True])"
      ],
      "metadata": {
        "colab": {
          "base_uri": "https://localhost:8080/"
        },
        "id": "TDBpX5IZ_ZmL",
        "outputId": "2652fadb-5b00-46b0-b903-eea501266066"
      },
      "execution_count": null,
      "outputs": [
        {
          "output_type": "stream",
          "name": "stdout",
          "text": [
            "Series([], Name: count, dtype: bool)\n"
          ]
        }
      ]
    },
    {
      "cell_type": "code",
      "source": [
        "Y1 = df_c[\"NA_Sales\"]\n",
        "Y2 = df_c[\"EU_Sales\"]\n",
        "Y3 = df_c[\"JP_Sales\"]\n",
        "Y4 = df_c[\"Global_Sales\"]\n",
        "X = df_c[[\"Year\", \"Platform_count\", \"Publisher_count\", \"Genre_count\"]]"
      ],
      "metadata": {
        "id": "cgE4EQEG_zp0"
      },
      "execution_count": null,
      "outputs": []
    },
    {
      "cell_type": "markdown",
      "source": [
        "<!-- JPN -->\n",
        "カウントエンコーディングを適用し、欠損値の存在する行を削除したので早速回帰分析を行います。"
      ],
      "metadata": {
        "id": "UTXtBXmABsMk"
      }
    },
    {
      "cell_type": "code",
      "source": [
        "RandomForest(X, Y4)"
      ],
      "metadata": {
        "colab": {
          "base_uri": "https://localhost:8080/"
        },
        "id": "l5fz58aWBuvU",
        "outputId": "0cc4959a-3304-4c3d-e919-fe108d7b63dd"
      },
      "execution_count": null,
      "outputs": [
        {
          "output_type": "stream",
          "name": "stdout",
          "text": [
            "rfrmae: 0.526\n"
          ]
        }
      ]
    },
    {
      "cell_type": "code",
      "source": [
        "AdaBoost(X, Y4)"
      ],
      "metadata": {
        "colab": {
          "base_uri": "https://localhost:8080/"
        },
        "id": "4LqGhB2xB1wG",
        "outputId": "dc42495b-df55-4d57-9469-937fb7f9fdd5"
      },
      "execution_count": null,
      "outputs": [
        {
          "output_type": "stream",
          "name": "stdout",
          "text": [
            "abmae: 0.568\n"
          ]
        }
      ]
    },
    {
      "cell_type": "code",
      "source": [
        "RidgeRegression(X, Y4)"
      ],
      "metadata": {
        "colab": {
          "base_uri": "https://localhost:8080/"
        },
        "id": "HGWln8xLB5Gb",
        "outputId": "6c8b4bed-244b-41b2-da83-15ed401959a4"
      },
      "execution_count": null,
      "outputs": [
        {
          "output_type": "stream",
          "name": "stdout",
          "text": [
            "rrmae: 0.579\n"
          ]
        }
      ]
    },
    {
      "cell_type": "code",
      "source": [
        "NeuralNetwork(X, Y4, 50)"
      ],
      "metadata": {
        "colab": {
          "base_uri": "https://localhost:8080/",
          "height": 657
        },
        "id": "YyFR0n8uB80j",
        "outputId": "a1e07aed-d878-453b-fc64-e7edf38c9936"
      },
      "execution_count": null,
      "outputs": [
        {
          "output_type": "display_data",
          "data": {
            "text/plain": [
              "<Figure size 864x576 with 2 Axes>"
            ],
            "image/png": "[encoded data removed]"
          },
          "metadata": {
            "needs_background": "light"
          }
        },
        {
          "output_type": "stream",
          "name": "stdout",
          "text": [
            "Loss\n",
            "\ttraining         \t (min:    0.454, max:    0.484, cur:    0.455)\n",
            "\tvalidation       \t (min:    0.447, max:    0.453, cur:    0.448)\n",
            "nnmae: 0.449\n"
          ]
        }
      ]
    },
    {
      "cell_type": "markdown",
      "source": [
        "<!-- JPN -->\n",
        "## 4 | ラベルエンコーディング\n",
        "\n",
        "ラベル・エンコーディングとは、ラベルの種類に応じた数値を割り当てて特徴量を生成する手法です。"
      ],
      "metadata": {
        "id": "ewx2F0CrC7XV"
      }
    },
    {
      "cell_type": "markdown",
      "source": [
        "<!-- JPN -->\n",
        "データに存在する\"Platform\"、\"Publisher\"、\"Genre\"に対してラベルエンコーディングを施し、それぞれの回帰分析手法を適用し、最適な手法を決定します。今回はそれぞれに対する\"Global_Sales\"の合計に従ってラベルを定めました。"
      ],
      "metadata": {
        "id": "aBILoEfeSkGV"
      }
    },
    {
      "cell_type": "code",
      "source": [
        "df_l = df.copy()\n",
        "sales_Platform = {}\n",
        "for i in range(len(df[\"Platform\"].unique())):\n",
        "  Pl_name = df[\"Platform\"].unique()[i]\n",
        "  sales_Platform[Pl_name] = df[df[\"Platform\"] == Pl_name][\"Global_Sales\"].sum()\n",
        "print(sales_Platform)\n",
        "df_l['Platform_sales'] = df_l['Platform'].map(sales_Platform)\n",
        "print(df_l.head())"
      ],
      "metadata": {
        "colab": {
          "base_uri": "https://localhost:8080/"
        },
        "id": "JDcVdZMQIOAA",
        "outputId": "1636a155-739f-42e8-f311-a62f20e51f7c"
      },
      "execution_count": null,
      "outputs": [
        {
          "output_type": "stream",
          "name": "stdout",
          "text": [
            "{'Wii': 926.71, 'NES': 251.07, 'GB': 255.45000000000002, 'DS': 822.49, 'X360': 979.96, 'PS3': 957.84, 'PS2': 1255.6399999999999, 'SNES': 200.05, 'GBA': 318.5, '3DS': 247.46, 'PS4': 278.1, 'N64': 218.88, 'PS': 730.66, 'XB': 258.26, 'PC': 258.82, '2600': 97.07999999999998, 'PSP': 296.28000000000003, 'XOne': 141.06, 'GC': 199.35999999999999, 'WiiU': 81.86000000000001, 'GEN': 28.36, 'DC': 15.969999999999999, 'PSV': 61.930000000000014, 'SAT': 33.59, 'SCD': 1.8700000000000003, 'WS': 1.42, 'NG': 1.4400000000000002, 'TG16': 0.16, '3DO': 0.1, 'GG': 0.04, 'PCFX': 0.03}\n",
            "  Platform    Year         Genre Publisher  NA_Sales  EU_Sales  JP_Sales  \\\n",
            "0      Wii  2006.0        Sports  Nintendo     41.49     29.02      3.77   \n",
            "1      NES  1985.0      Platform  Nintendo     29.08      3.58      6.81   \n",
            "2      Wii  2008.0        Racing  Nintendo     15.85     12.88      3.79   \n",
            "3      Wii  2009.0        Sports  Nintendo     15.75     11.01      3.28   \n",
            "4       GB  1996.0  Role-Playing  Nintendo     11.27      8.89     10.22   \n",
            "\n",
            "   Global_Sales  Platform_sales  \n",
            "0         82.74          926.71  \n",
            "1         40.24          251.07  \n",
            "2         35.82          926.71  \n",
            "3         33.00          926.71  \n",
            "4         31.37          255.45  \n"
          ]
        }
      ]
    },
    {
      "cell_type": "code",
      "source": [
        "sales_Publisher = {}\n",
        "for i in range(len(df[\"Publisher\"].unique())):\n",
        "  Pu_name = df[\"Publisher\"].unique()[i]\n",
        "  sales_Publisher[Pu_name] = df[df[\"Publisher\"] == Pu_name][\"Global_Sales\"].sum()\n",
        "print(sales_Publisher)\n",
        "df_l['Publisher_sales'] = df_l['Publisher'].map(sales_Publisher)\n",
        "print(df_l.head())"
      ],
      "metadata": {
        "colab": {
          "base_uri": "https://localhost:8080/"
        },
        "id": "sYzQm1qiLwdD",
        "outputId": "1cb13c45-54f0-4969-d82f-8af46aa798f9"
      },
      "execution_count": null,
      "outputs": [
        {
          "output_type": "stream",
          "name": "stdout",
          "text": [
            "{'Nintendo': 1786.5600000000002, 'Microsoft Game Studios': 245.79000000000002, 'Take-Two Interactive': 399.53999999999996, 'Sony Computer Entertainment': 607.5000000000001, 'Activision': 727.46, 'Ubisoft': 474.72, 'Bethesda Softworks': 82.14, 'Electronic Arts': 1110.3200000000002, 'Sega': 272.98999999999995, 'SquareSoft': 57.650000000000006, 'Atari': 157.22, '505 Games': 55.910000000000004, 'Capcom': 200.89000000000004, 'GT Interactive': 25.23, 'Konami Digital Entertainment': 283.64, 'Sony Computer Entertainment Europe': 23.890000000000004, 'Square Enix': 145.18, 'LucasArts': 87.34, 'Virgin Interactive': 43.87000000000001, 'Warner Bros. Interactive Entertainment': 153.89, 'Universal Interactive': 17.770000000000003, 'Eidos Interactive': 98.98, 'RedOctane': 8.68, 'Vivendi Games': 58.21, 'Enix Corporation': 33.739999999999995, 'Namco Bandai Games': 254.09, 'Palcom': 4.17, 'Hasbro Interactive': 15.22, 'THQ': 340.77, 'Fox Interactive': 7.389999999999999, 'Acclaim Entertainment': 64.14, 'MTV Games': 20.97, 'Disney Interactive Studios': 119.95999999999998, nan: 0.0, 'Majesco Entertainment': 16.080000000000005, 'Codemasters': 47.87, 'Red Orb': 5.24, 'Level 5': 12.17, 'Arena Entertainment': 4.72, 'Midway Games': 69.85, 'JVC': 2.8000000000000003, 'Deep Silver': 25.669999999999995, '989 Studios': 13.319999999999999, 'NCSoft': 2.5899999999999994, 'UEP Systems': 2.25, 'Parker Bros.': 4.97, 'Maxis': 3.39, 'Imagic': 4.82, 'Tecmo Koei': 53.550000000000004, 'Valve Software': 3.2300000000000004, 'ASCII Entertainment': 10.889999999999999, 'Mindscape': 7.74, 'Infogrames': 16.340000000000003, 'Unknown': 34.66, 'Square': 3.64, 'Valve': 1.74, 'Activision Value': 6.96, 'Banpresto': 17.400000000000002, 'D3Publisher': 24.13, 'Oxygen Interactive': 3.4599999999999995, 'Red Storm Entertainment': 2.32, 'Video System': 2.18, 'Hello Games': 1.6, 'Global Star': 7.649999999999999, 'Gotham Games': 3.7199999999999998, 'Westwood Studios': 1.55, 'GungHo': 3.1499999999999995, 'Crave Entertainment': 9.929999999999996, 'Hudson Soft': 23.009999999999998, 'Coleco': 3.0599999999999996, 'Rising Star Games': 17.310000000000002, 'Atlus': 12.739999999999998, 'TDK Mediactive': 8.309999999999999, 'ASC Games': 2.02, 'Zoo Games': 4.82, 'Accolade': 1.68, 'Sony Online Entertainment': 3.53, '3DO': 10.119999999999997, 'RTL': 1.9999999999999998, 'Natsume': 3.69, 'Focus Home Interactive': 7.510000000000001, 'Alchemist': 2.6299999999999994, 'Black Label Games': 1.2, 'SouthPeak Games': 6.349999999999999, 'Mastertronic': 1.73, 'Ocean': 3.6100000000000003, 'Zoo Digital Publishing': 12.870000000000001, 'Psygnosis': 7.2700000000000005, 'City Interactive': 4.61, 'Empire Interactive': 11.29, 'Success': 1.96, 'Compile': 2.4599999999999995, 'Russel': 1.2100000000000002, 'Taito': 2.8399999999999994, 'Agetec': 1.94, 'GSP': 3.6900000000000004, 'Microprose': 2.02, 'Play It': 4.31, 'Slightly Mad Studios': 1.3800000000000001, 'Tomy Corporation': 4.97, 'Sammy Corporation': 2.73, 'Koch Media': 4.71, 'Game Factory': 3.79, 'Titus': 3.32, 'Marvelous Entertainment': 2.3299999999999996, 'Genki': 1.46, 'Mojang': 2.89, 'Pinnacle': 1.4200000000000002, 'CTO SpA': 0.9, 'TalonSoft': 0.87, 'Crystal Dynamics': 1.71, 'SCi': 3.52, 'Quelle': 0.87, 'mixi, Inc': 0.86, 'Rage Software': 1.4200000000000004, 'Ubisoft Annecy': 4.46, 'Scholastic Inc.': 2.9099999999999993, 'Interplay': 6.659999999999999, 'Mystique': 0.82, 'ChunSoft': 4.069999999999999, 'Square EA': 0.8, '20th Century Fox Video Games': 1.9400000000000002, 'Avanquest Software': 1.6900000000000002, 'Hudson Entertainment': 1.69, 'Nordic Games': 4.4399999999999995, 'Men-A-Vision': 0.77, 'Nobilis': 1.9400000000000002, 'Big Ben Interactive': 1.0, 'Touchstone': 1.5800000000000003, 'Spike': 6.15, 'Jester Interactive': 1.15, 'Nippon Ichi Software': 14.280000000000001, 'LEGO Media': 1.5599999999999998, 'Quest': 0.71, 'Illusion Softworks': 0.7, 'Tigervision': 1.42, 'Funbox Media': 0.9100000000000001, 'Rocket Company': 1.82, 'Metro 3D': 1.8400000000000003, 'Mattel Interactive': 3.51, 'IE Institute': 0.9600000000000002, 'Rondomedia': 2.58, 'Sony Computer Entertainment America': 1.1800000000000002, 'Universal Gamex': 0.63, 'Ghostlight': 2.79, 'Wizard Video Games': 0.62, 'BMG Interactive Entertainment': 1.1800000000000002, 'PQube': 4.27, 'Trion Worlds': 1.15, 'Laguna': 1.55, 'Ignition Entertainment': 6.8199999999999985, 'Takara': 3.45, 'Kadokawa Shoten': 3.7699999999999996, 'Destineer': 4.359999999999999, 'Enterbrain': 2.23, 'Xseed Games': 0.9, 'Imagineer': 2.65, 'System 3 Arcade Software': 1.8000000000000003, 'CPG Products': 0.54, 'Aruze Corp': 1.1800000000000002, 'Gamebridge': 0.73, 'Midas Interactive Entertainment': 2.72, 'Jaleco': 1.9400000000000002, 'Answer Software': 0.5, 'XS Games': 1.46, 'Activision Blizzard': 0.48, 'Pack In Soft': 0.48, 'Rebellion': 0.49, 'Xplosiv': 1.6400000000000001, 'Ultravision': 0.47, 'GameMill Entertainment': 1.38, 'Wanadoo': 0.6500000000000001, 'NovaLogic': 0.8200000000000001, 'Telltale Games': 2.7199999999999998, 'Epoch': 1.05, 'BAM! Entertainment': 4.949999999999999, 'Knowledge Adventure': 1.47, 'Mastiff': 2.23, 'Tetris Online': 0.43, 'Harmonix Music Systems': 0.8, 'ESP': 0.5900000000000001, 'TYO': 0.42, 'Telegames': 1.03, 'Mud Duck Productions': 0.85, 'Screenlife': 0.9199999999999999, 'Pioneer LDC': 0.74, 'Magical Company': 0.41, 'Mentor Interactive': 1.07, 'Kemco': 2.2199999999999993, 'Human Entertainment': 3.0, 'Avanquest': 3.0, 'Data Age': 0.71, 'Electronic Arts Victor': 0.42, 'Black Bean Games': 3.2899999999999996, 'Jack of All Games': 0.42000000000000004, '989 Sports': 0.38, 'Takara Tomy': 2.6999999999999993, 'Media Rings': 0.65, 'Elf': 0.64, 'Kalypso Media': 2.449999999999999, 'Starfish': 0.72, 'Zushi Games': 1.89, 'Jorudan': 0.95, 'Destination Software, Inc': 0.88, 'New': 0.36, 'Brash Entertainment': 1.2300000000000002, 'ITT Family Games': 0.34, 'PopCap Games': 1.57, 'Home Entertainment Suppliers': 0.7100000000000002, 'Ackkstudios': 0.8400000000000001, 'Starpath Corp.': 0.33, 'P2 Games': 0.4, 'BPS': 0.52, 'Gathering of Developers': 1.1900000000000002, 'NewKidCo': 1.33, 'Storm City Games': 1.56, 'CokeM Interactive': 0.31, 'CBS Electronics': 0.31, 'Magix': 0.35, 'Marvelous Interactive': 4.170000000000001, 'Nihon Falcom Corporation': 0.77, 'Wargaming.net': 0.29, 'Angel Studios': 0.43999999999999995, 'Arc System Works': 1.48, 'Playmates': 0.28, 'SNK Playmore': 0.96, 'Hamster Corporation': 0.30000000000000004, 'From Software': 1.6300000000000003, 'Nippon Columbia': 0.9500000000000002, 'Nichibutsu': 0.28, 'Little Orbit': 2.0399999999999996, 'Conspiracy Entertainment': 0.8400000000000001, 'DTP Entertainment': 3.589999999999999, 'Hect': 0.5, 'Mumbo Jumbo': 0.5800000000000001, 'Pacific Century Cyber Works': 0.26, 'Indie Games': 0.32, 'Liquid Games': 0.27, 'NEC': 0.43000000000000005, 'Axela': 0.25, 'ArtDink': 0.73, 'Sunsoft': 0.9500000000000001, 'Gust': 1.1, 'SNK': 2.59, 'NEC Interchannel': 0.78, 'FuRyu': 1.32, 'Xing Entertainment': 0.24, 'ValuSoft': 0.39, 'Victor Interactive': 0.8900000000000001, 'Detn8 Games': 0.23, 'American Softworks': 0.23, 'Nordcurrent': 0.5900000000000001, 'Bomb': 0.22, 'Falcom Corporation': 1.21, 'AQ Interactive': 0.53, 'CCP': 0.22, 'Milestone S.r.l.': 1.28, 'Sears': 0.21, 'JoWood Productions': 1.4900000000000002, 'Seta Corporation': 0.6300000000000001, 'On Demand': 0.21, 'NCS': 0.4, 'Aspyr': 0.62, 'Gremlin Interactive Ltd': 1.0999999999999999, 'Agatsuma Entertainment': 0.31000000000000005, 'Compile Heart': 1.37, 'Culture Brain': 0.27, 'Mad Catz': 0.30000000000000004, 'Shogakukan': 0.44000000000000006, 'Merscom LLC': 0.2, 'Rebellion Developments': 0.30000000000000004, 'Nippon Telenet': 0.26, 'TDK Core': 0.6200000000000001, 'bitComposer Games': 0.41000000000000003, 'Foreign Media Games': 0.63, 'Astragon': 0.6400000000000001, 'SSI': 0.19, 'Kadokawa Games': 0.5800000000000001, 'Idea Factory': 4.0200000000000005, 'Performance Designed Products': 0.36, 'Asylum Entertainment': 0.5900000000000001, 'Core Design Ltd.': 0.29000000000000004, 'PlayV': 0.44, 'UFO Interactive': 0.96, 'Idea Factory International': 0.6100000000000001, 'Playlogic Game Factory': 1.2000000000000002, 'Essential Games': 0.23, 'Adeline Software': 0.17, 'Funcom': 0.2, 'Panther Software': 0.17, 'Blast! Entertainment Ltd': 0.38000000000000006, 'Game Life': 0.30000000000000004, 'DSI Games': 0.35000000000000003, 'Avalon Interactive': 0.48, 'Popcorn Arcade': 0.49, 'Neko Entertainment': 0.31000000000000005, 'Vir2L Studios': 0.26, 'Aques': 0.16, 'Syscom': 0.27, 'White Park Bay Software': 0.16, 'System 3': 0.22000000000000003, 'Vatical Entertainment': 0.22, 'Daedalic': 0.28, 'EA Games': 0.15, 'Media Factory': 0.29000000000000004, 'Vic Tokai': 0.27, 'The Adventure Company': 0.51, 'Game Arts': 0.14, 'Broccoli': 0.9600000000000002, 'Acquire': 1.07, 'General Entertainment': 0.14, 'Excalibur Publishing': 0.28, 'Imadio': 0.14, 'Swing! Entertainment': 0.48, 'Sony Music Entertainment': 0.14, 'Aqua Plus': 1.2500000000000002, 'Paradox Interactive': 0.7600000000000002, 'Hip Interactive': 0.36, 'DreamCatcher Interactive': 0.95, 'Tripwire Interactive': 0.14, 'Sting': 0.65, 'Yacht Club Games': 0.32, 'SCS Software': 0.13, 'Bigben Interactive': 0.8400000000000001, 'Havas Interactive': 0.13, 'Slitherine Software': 0.21, 'Graffiti': 0.37999999999999995, 'Funsta': 0.2, 'Telstar': 0.27, 'U.S. Gold': 0.33, 'DreamWorks Interactive': 0.13, 'Data Design Interactive': 0.29000000000000004, 'MTO': 0.39999999999999997, 'DHM Interactive': 0.18, 'FunSoft': 0.12, 'SPS': 0.12, 'Bohemia Interactive': 0.12, 'Reef Entertainment': 0.3400000000000001, 'Tru Blu Entertainment': 0.28, 'Moss': 0.13, 'T&E Soft': 0.12, 'O-Games': 1.0799999999999998, 'Aksys Games': 0.44, 'NDA Productions': 0.12, 'Data East': 0.15, 'Time Warner Interactive': 0.35, 'Gainax Network Systems': 0.16, 'Daito': 0.22999999999999998, 'O3 Entertainment': 0.22, 'Gameloft': 0.11, 'Xicat Interactive': 0.17, 'Simon & Schuster Interactive': 0.11, 'Valcon Games': 0.45000000000000007, 'PopTop Software': 0.11, 'TOHO': 0.11, 'HMH Interactive': 0.14, '5pb': 1.6300000000000001, 'Cave': 0.33, 'CDV Software Entertainment': 0.2, 'Microids': 0.4, 'PM Studios': 0.1, 'Paon': 0.25, 'Micro Cabin': 0.19999999999999998, 'GameTek': 0.1, 'Benesse': 0.33, 'Type-Moon': 0.1, 'Enjoy Gaming ltd.': 0.1, 'Asmik Corp': 0.17, 'Interplay Productions': 0.1, 'Asmik Ace Entertainment': 0.23, 'inXile Entertainment': 0.1, 'Image Epoch': 0.1, 'Phantom EFX': 0.09, 'Evolved Games': 0.32, 'responDESIGN': 0.13, 'Culture Publishers': 0.09, 'Griffin International': 0.09, 'Hackberry': 0.31, 'Hearty Robin': 0.09, 'Nippon Amuse': 0.09, 'Origin Systems': 0.09, 'Seventh Chord': 0.08, 'Mitsui': 0.08, 'Milestone': 0.08, 'Abylight': 0.08, 'Flight-Plan': 0.12, 'Glams': 0.08, 'Locus': 0.07, 'Warp': 0.07, 'Daedalic Entertainment': 0.14, 'Alternative Software': 0.2, 'Myelin Media': 0.13, 'Mercury Games': 0.21, 'Irem Software Engineering': 0.4600000000000001, 'Sunrise Interactive': 0.16999999999999998, 'Elite': 0.07, 'Evolution Games': 0.07, 'Tivola': 0.17, 'Global A Entertainment': 0.15000000000000002, 'Edia': 0.09000000000000001, 'Athena': 0.09000000000000001, 'Aria': 0.07, 'Gamecock': 0.19999999999999998, 'Tommo': 0.21, 'Altron': 0.07, 'Happinet': 0.18000000000000002, 'iWin': 0.06, 'Media Works': 0.18, 'Fortyfive': 0.06, 'Revolution Software': 0.06999999999999999, 'Imax': 0.06, 'Crimson Cow': 0.08, '10TACLE Studios': 0.11, 'Groove Games': 0.09, 'Pack-In-Video': 0.11, 'Insomniac Games': 0.12000000000000001, 'Ascaron Entertainment GmbH': 0.11, 'Asgard': 0.25, 'Ecole': 0.06, 'Yumedia': 0.06, 'Phenomedia': 0.19, 'HAL Laboratory': 0.06, 'Grand Prix Games': 0.06, 'DigiCube': 0.06, 'Creative Core': 0.09999999999999999, 'Kaga Create': 0.14, 'WayForward Technologies': 0.05, 'LSP Games': 0.12, 'ASCII Media Works': 0.27, 'Coconuts Japan': 0.07, 'Arika': 0.09000000000000001, 'Ertain': 0.05, 'Marvel Entertainment': 0.05, 'Prototype': 0.61, 'TopWare Interactive': 0.12, 'Phantagram': 0.05, '1C Company': 0.09999999999999999, 'The Learning Company': 0.05, 'TechnoSoft': 0.05, 'Vap': 0.05, 'Misawa': 0.07, 'Tradewest': 0.11, 'Team17 Software': 0.05, 'Yeti': 0.24000000000000002, 'Pow': 0.05, 'Navarre Corp': 0.05, 'MediaQuest': 0.05, 'Max Five': 0.05, 'Comfort': 0.15000000000000002, 'Monte Christo Multimedia': 0.05, 'Pony Canyon': 0.05, 'Riverhillsoft': 0.04, 'Summitsoft': 0.04, 'Milestone S.r.l': 0.05, 'Playmore': 0.04, 'MLB.com': 0.04, 'Kool Kizz': 0.04, 'Flashpoint Games': 0.08, '49Games': 0.04, 'Legacy Interactive': 0.04, 'Alawar Entertainment': 0.05, 'CyberFront': 0.27, 'Cloud Imperium Games Corporation': 0.08, 'Societa': 0.04, 'Virtual Play Games': 0.06, 'Interchannel': 0.1, 'Sonnet': 0.06, 'Experience Inc.': 0.060000000000000005, 'Zenrin': 0.06, 'Iceberg Interactive': 0.08, 'Ivolgamus': 0.04, '2D Boy': 0.04, 'MC2 Entertainment': 0.08, 'Kando Games': 0.03, 'Just Flight': 0.03, 'Office Create': 0.06, 'Mamba Games': 0.05, 'Fields': 0.03, 'Princess Soft': 0.07, 'Maximum Family Games': 0.03, 'Berkeley': 0.03, 'Fuji': 0.03, 'Dusenberry Martin Racing': 0.05, 'imageepoch Inc.': 0.04, 'Big Fish Games': 0.05, 'Her Interactive': 0.03, 'Kamui': 0.03, 'ASK': 0.03, 'Headup Games': 0.03, 'KSS': 0.03, 'Cygames': 0.03, 'KID': 0.08, 'Quinrose': 0.22000000000000006, 'Sunflowers': 0.03, 'dramatic create': 0.11, 'TGL': 0.09999999999999999, 'Encore': 0.07, 'Extreme Entertainment Group': 0.03, 'Intergrow': 0.03, 'G.Rev': 0.04, 'Sweets': 0.05, 'Kokopeli Digital Studios': 0.03, 'Number None': 0.03, 'Nexon': 0.03, 'id Software': 0.03, 'BushiRoad': 0.03, 'Tryfirst': 0.03, 'Strategy First': 0.03, '7G//AMES': 0.08, 'GN Software': 0.05, \"Yuke's\": 0.08, 'Easy Interactive': 0.05, 'Licensed 4U': 0.07, 'FuRyu Corporation': 0.03, 'Lexicon Entertainment': 0.05, 'Paon Corporation': 0.03, 'Kids Station': 0.03, 'GOA': 0.02, 'Graphsim Entertainment': 0.02, 'King Records': 0.02, 'Introversion Software': 0.02, 'Minato Station': 0.05, 'Devolver Digital': 0.04, 'Blue Byte': 0.03, 'Gaga': 0.02, 'Yamasa Entertainment': 0.04, 'Plenty': 0.02, 'Views': 0.03, 'fonfun': 0.02, 'NetRevo': 0.03, 'Codemasters Online': 0.02, 'Quintet': 0.02, 'Phoenix Games': 0.02, 'Dorart': 0.03, 'Marvelous Games': 0.02, 'Focus Multimedia': 0.05, 'Imageworks': 0.02, 'Karin Entertainment': 0.02, 'Aerosoft': 0.03, 'Technos Japan Corporation': 0.02, 'Gakken': 0.04, 'Mirai Shounen': 0.02, 'Datam Polystar': 0.03, 'Saurus': 0.02, 'HuneX': 0.03, 'Revolution (Japan)': 0.02, 'Giza10': 0.02, 'Visco': 0.02, 'Alvion': 0.04, 'Mycom': 0.02, 'Giga': 0.02, 'Warashi': 0.02, 'System Soft': 0.05, 'Sold Out': 0.02, 'Lighthouse Interactive': 0.02, 'Masque Publishing': 0.02, 'RED Entertainment': 0.02, 'Michaelsoft': 0.01, 'Media Entertainment': 0.01, 'New World Computing': 0.01, 'Genterprise': 0.01, 'Interworks Unlimited, Inc.': 0.01, 'Boost On': 0.01, 'Stainless Games': 0.01, 'EON Digital Entertainment': 0.01, 'Epic Games': 0.01, 'Naxat Soft': 0.01, 'Ascaron Entertainment': 0.01, 'Piacci': 0.01, 'Nitroplus': 0.02, 'Paradox Development': 0.01, 'Otomate': 0.01, 'Ongakukan': 0.01, 'Commseed': 0.01, 'Inti Creates': 0.01, 'Takuyo': 0.01, 'Interchannel-Holon': 0.01, 'Rain Games': 0.01, 'UIG Entertainment': 0.01}\n",
            "  Platform    Year         Genre Publisher  NA_Sales  EU_Sales  JP_Sales  \\\n",
            "0      Wii  2006.0        Sports  Nintendo     41.49     29.02      3.77   \n",
            "1      NES  1985.0      Platform  Nintendo     29.08      3.58      6.81   \n",
            "2      Wii  2008.0        Racing  Nintendo     15.85     12.88      3.79   \n",
            "3      Wii  2009.0        Sports  Nintendo     15.75     11.01      3.28   \n",
            "4       GB  1996.0  Role-Playing  Nintendo     11.27      8.89     10.22   \n",
            "\n",
            "   Global_Sales  Platform_sales  Publisher_sales  \n",
            "0         82.74          926.71          1786.56  \n",
            "1         40.24          251.07          1786.56  \n",
            "2         35.82          926.71          1786.56  \n",
            "3         33.00          926.71          1786.56  \n",
            "4         31.37          255.45          1786.56  \n"
          ]
        }
      ]
    },
    {
      "cell_type": "code",
      "source": [
        "sales_Genre = {}\n",
        "for i in range(len(df[\"Genre\"].unique())):\n",
        "  G_name = df[\"Genre\"].unique()[i]\n",
        "  sales_Genre[G_name] = df[df[\"Genre\"] == G_name][\"Global_Sales\"].sum()\n",
        "print(sales_Genre)\n",
        "df_l['Genre_sales'] = df_l['Genre'].map(sales_Genre)\n",
        "print(df_l.head())"
      ],
      "metadata": {
        "colab": {
          "base_uri": "https://localhost:8080/"
        },
        "id": "Vec6EvyzMpTS",
        "outputId": "872ee314-db69-41d1-e71d-bbdcd98b17ed"
      },
      "execution_count": null,
      "outputs": [
        {
          "output_type": "stream",
          "name": "stdout",
          "text": [
            "{'Sports': 1330.93, 'Platform': 831.37, 'Racing': 732.04, 'Role-Playing': 927.37, 'Puzzle': 244.95, 'Misc': 809.9600000000002, 'Shooter': 1037.3700000000001, 'Simulation': 392.2000000000001, 'Action': 1751.18, 'Fighting': 448.91, 'Adventure': 239.03999999999996, 'Strategy': 175.12000000000003}\n",
            "  Platform    Year         Genre Publisher  NA_Sales  EU_Sales  JP_Sales  \\\n",
            "0      Wii  2006.0        Sports  Nintendo     41.49     29.02      3.77   \n",
            "1      NES  1985.0      Platform  Nintendo     29.08      3.58      6.81   \n",
            "2      Wii  2008.0        Racing  Nintendo     15.85     12.88      3.79   \n",
            "3      Wii  2009.0        Sports  Nintendo     15.75     11.01      3.28   \n",
            "4       GB  1996.0  Role-Playing  Nintendo     11.27      8.89     10.22   \n",
            "\n",
            "   Global_Sales  Platform_sales  Publisher_sales  Genre_sales  \n",
            "0         82.74          926.71          1786.56      1330.93  \n",
            "1         40.24          251.07          1786.56       831.37  \n",
            "2         35.82          926.71          1786.56       732.04  \n",
            "3         33.00          926.71          1786.56      1330.93  \n",
            "4         31.37          255.45          1786.56       927.37  \n"
          ]
        }
      ]
    },
    {
      "cell_type": "code",
      "source": [
        "from sklearn.preprocessing import LabelEncoder\n",
        "\n",
        "le = LabelEncoder()\n",
        "le = le.fit(df_l['Platform_sales'])\n",
        "df_l['Platform_sales'] = le.transform(df_l['Platform_sales'])\n",
        "\n",
        "le = le.fit(df_l['Publisher_sales'])\n",
        "df_l['Publisher_sales'] = le.transform(df_l['Publisher_sales'])\n",
        "\n",
        "le = le.fit(df_l['Genre_sales'])\n",
        "df_l['Genre_sales'] = le.transform(df_l['Genre_sales'])\n",
        "\n",
        "print(df_l.head())"
      ],
      "metadata": {
        "colab": {
          "base_uri": "https://localhost:8080/"
        },
        "id": "cahM_XtPOCfG",
        "outputId": "bb6a63ec-7962-4250-927a-762f77a25b53"
      },
      "execution_count": null,
      "outputs": [
        {
          "output_type": "stream",
          "name": "stdout",
          "text": [
            "  Platform    Year         Genre Publisher  NA_Sales  EU_Sales  JP_Sales  \\\n",
            "0      Wii  2006.0        Sports  Nintendo     41.49     29.02      3.77   \n",
            "1      NES  1985.0      Platform  Nintendo     29.08      3.58      6.81   \n",
            "2      Wii  2008.0        Racing  Nintendo     15.85     12.88      3.79   \n",
            "3      Wii  2009.0        Sports  Nintendo     15.75     11.01      3.28   \n",
            "4       GB  1996.0  Role-Playing  Nintendo     11.27      8.89     10.22   \n",
            "\n",
            "   Global_Sales  Platform_sales  Publisher_sales  Genre_sales  \n",
            "0         82.74              27              290           10  \n",
            "1         40.24              18              290            7  \n",
            "2         35.82              27              290            5  \n",
            "3         33.00              27              290           10  \n",
            "4         31.37              19              290            8  \n"
          ]
        }
      ]
    },
    {
      "cell_type": "code",
      "source": [
        "print(df_l.describe().loc[\"count\"])"
      ],
      "metadata": {
        "colab": {
          "base_uri": "https://localhost:8080/"
        },
        "id": "eIEH5qQ5Q3MH",
        "outputId": "d3f78eec-be32-457d-b188-2bd7690f8a1f"
      },
      "execution_count": null,
      "outputs": [
        {
          "output_type": "stream",
          "name": "stdout",
          "text": [
            "Year               16327.0\n",
            "NA_Sales           16598.0\n",
            "EU_Sales           16598.0\n",
            "JP_Sales           16598.0\n",
            "Global_Sales       16598.0\n",
            "Platform_sales     16598.0\n",
            "Publisher_sales    16598.0\n",
            "Genre_sales        16598.0\n",
            "Name: count, dtype: float64\n"
          ]
        }
      ]
    },
    {
      "cell_type": "code",
      "source": [
        "C1 = df_l.describe().loc[\"count\"] != 16598.0\n",
        "print(C1[C1 == True])"
      ],
      "metadata": {
        "colab": {
          "base_uri": "https://localhost:8080/"
        },
        "id": "g_OQaqcQRCXQ",
        "outputId": "034148ff-79df-46e1-9249-f5d1568485d5"
      },
      "execution_count": null,
      "outputs": [
        {
          "output_type": "stream",
          "name": "stdout",
          "text": [
            "Year    True\n",
            "Name: count, dtype: bool\n"
          ]
        }
      ]
    },
    {
      "cell_type": "code",
      "source": [
        "df_l = df_l.dropna()"
      ],
      "metadata": {
        "id": "SBRdoPtfRWhu"
      },
      "execution_count": null,
      "outputs": []
    },
    {
      "cell_type": "code",
      "source": [
        "print(df_l.describe().loc[\"count\"])"
      ],
      "metadata": {
        "colab": {
          "base_uri": "https://localhost:8080/"
        },
        "id": "dLtJwlasRiev",
        "outputId": "6bbfce68-af6d-4304-9719-b24a13cfc684"
      },
      "execution_count": null,
      "outputs": [
        {
          "output_type": "stream",
          "name": "stdout",
          "text": [
            "Year               16291.0\n",
            "NA_Sales           16291.0\n",
            "EU_Sales           16291.0\n",
            "JP_Sales           16291.0\n",
            "Global_Sales       16291.0\n",
            "Platform_sales     16291.0\n",
            "Publisher_sales    16291.0\n",
            "Genre_sales        16291.0\n",
            "Name: count, dtype: float64\n"
          ]
        }
      ]
    },
    {
      "cell_type": "code",
      "source": [
        "C2 = df_l.describe().loc[\"count\"] != 16291.0\n",
        "print(C2[C2 == True])"
      ],
      "metadata": {
        "colab": {
          "base_uri": "https://localhost:8080/"
        },
        "id": "jW9ESAIjRwK4",
        "outputId": "b1c5cc58-dc22-4efe-cde8-00cf395f496a"
      },
      "execution_count": null,
      "outputs": [
        {
          "output_type": "stream",
          "name": "stdout",
          "text": [
            "Series([], Name: count, dtype: bool)\n"
          ]
        }
      ]
    },
    {
      "cell_type": "code",
      "source": [
        "Y1 = df_l[\"NA_Sales\"]\n",
        "Y2 = df_l[\"EU_Sales\"]\n",
        "Y3 = df_l[\"JP_Sales\"]\n",
        "Y4 = df_l[\"Global_Sales\"]\n",
        "X = df_l[[\"Year\", \"Platform_sales\", \"Publisher_sales\", \"Genre_sales\"]]"
      ],
      "metadata": {
        "id": "k7NAR9-tR4n_"
      },
      "execution_count": null,
      "outputs": []
    },
    {
      "cell_type": "markdown",
      "source": [
        "<!-- JPN -->\n",
        "ラベルエンコーディングを適用し、欠損値の存在する行を削除したので早速回帰分析を行います。"
      ],
      "metadata": {
        "id": "m2yBfKiBTbzo"
      }
    },
    {
      "cell_type": "code",
      "source": [
        "RandomForest(X, Y4)"
      ],
      "metadata": {
        "colab": {
          "base_uri": "https://localhost:8080/"
        },
        "id": "pIfPr32STkmr",
        "outputId": "e85f3b92-39c0-4329-be3b-e7a54243fd1d"
      },
      "execution_count": null,
      "outputs": [
        {
          "output_type": "stream",
          "name": "stdout",
          "text": [
            "rfrmae: 0.521\n"
          ]
        }
      ]
    },
    {
      "cell_type": "code",
      "source": [
        "AdaBoost(X, Y4)"
      ],
      "metadata": {
        "colab": {
          "base_uri": "https://localhost:8080/"
        },
        "id": "L4bWeaWwTx8R",
        "outputId": "3968f7d4-370f-45b8-f588-f56ce92e2faf"
      },
      "execution_count": null,
      "outputs": [
        {
          "output_type": "stream",
          "name": "stdout",
          "text": [
            "abmae: 0.567\n"
          ]
        }
      ]
    },
    {
      "cell_type": "code",
      "source": [
        "RidgeRegression(X, Y4)"
      ],
      "metadata": {
        "colab": {
          "base_uri": "https://localhost:8080/"
        },
        "id": "lt_8i-XAT1Sq",
        "outputId": "f5d65ce6-8b96-466c-884b-440ef40709e1"
      },
      "execution_count": null,
      "outputs": [
        {
          "output_type": "stream",
          "name": "stdout",
          "text": [
            "rrmae: 0.587\n"
          ]
        }
      ]
    },
    {
      "cell_type": "code",
      "source": [
        "NeuralNetwork(X, Y4, 50)"
      ],
      "metadata": {
        "colab": {
          "base_uri": "https://localhost:8080/",
          "height": 657
        },
        "id": "K9oJ8Tq8T-F3",
        "outputId": "b2a2c9db-11bb-4273-cc3f-afb1514a2954"
      },
      "execution_count": null,
      "outputs": [
        {
          "output_type": "display_data",
          "data": {
            "text/plain": [
              "<Figure size 864x576 with 2 Axes>"
            ],
            "image/png": "[encoded data removed]"
          },
          "metadata": {
            "needs_background": "light"
          }
        },
        {
          "output_type": "stream",
          "name": "stdout",
          "text": [
            "Loss\n",
            "\ttraining         \t (min:    0.446, max:    0.483, cur:    0.447)\n",
            "\tvalidation       \t (min:    0.436, max:    0.447, cur:    0.436)\n",
            "nnmae: 0.441\n"
          ]
        }
      ]
    },
    {
      "cell_type": "markdown",
      "source": [
        "<!-- JPN -->\n",
        "## 5 | 考察"
      ],
      "metadata": {
        "id": "88fStOkjV2MD"
      }
    },
    {
      "cell_type": "markdown",
      "source": [
        "<!-- JPN -->\n",
        "### 5.1 | エンコーディング手法ごとの回帰手法の比較"
      ],
      "metadata": {
        "id": "SqAvyQfiblyw"
      }
    },
    {
      "cell_type": "markdown",
      "source": [
        "<!-- JPN -->\n",
        "まずはそれぞれのエンコーディングごとに回帰手法の性能を比較するためMAEの小さい順に並べてみます。\n",
        "\n",
        "- One-Hotエンコーディング\n",
        "\n",
        "ニューラルネットワーク　<　ランダムフォレスト　<　多項式リッジ回帰　<　アダブースト\n",
        "\n",
        "- カウントエンコーディング\n",
        "\n",
        "ニューラルネットワーク　<　ランダムフォレスト　<　アダブースト　<　多項式リッジ回帰\n",
        "\n",
        "- ラベルエンコーディング\n",
        "\n",
        "ニューラルネットワーク　<　ランダムフォレスト　<　アダブースト　<　多項式リッジ回帰"
      ],
      "metadata": {
        "id": "O2gPvve-V6Wq"
      }
    },
    {
      "cell_type": "markdown",
      "source": [
        "<!-- JPN -->\n",
        "上記の結果からどのエンコーディングにおいてもニューラルネットワークが一番性能が良くなることがわかります。この結果からニューラルネットワーク以外の手法ではハイパーパラメータを探索した際に適切なハイパーパラメータを見つけることができていない可能性があることがわかります。今後取り組む際にはハイパーパラメータの候補を増やして十分な探索を行いたいです。"
      ],
      "metadata": {
        "id": "ltv8eeascDxb"
      }
    },
    {
      "cell_type": "markdown",
      "source": [
        "<!-- JPN -->\n",
        "### 5.2 | 回帰手法ごとのエンコーディング手法の比較"
      ],
      "metadata": {
        "id": "0Zi-qupFbxnQ"
      }
    },
    {
      "cell_type": "markdown",
      "source": [
        "<!-- JPN -->\n",
        "次にそれぞれの回帰手法ごとにエンコーディング手法を比較するためMAEの小さい順に並べてみる。\n",
        "\n",
        "- ランダムフォレスト\n",
        "\n",
        "One-Hot　<　ラベル　<　カウント\n",
        "\n",
        "- アダブースト\n",
        "\n",
        "One-Hot　<　ラベル　<　カウント\n",
        "\n",
        "- 多項式リッジ回帰\n",
        "\n",
        "One-Hot　<　カウント　<　ラベル\n",
        "\n",
        "- ニューラルネットワーク\n",
        "\n",
        "One-Hot　<　ラベル　<　カウント"
      ],
      "metadata": {
        "id": "kcBg5cwVaXut"
      }
    },
    {
      "cell_type": "markdown",
      "source": [
        "<!-- JPN -->\n",
        "上記の結果からどの回帰手法においてもOne-Hotエンコーディングが一番性能が良くなることがわかります。これはカウントエンコーディングやラベルエンコーディングではラベル間の数値の大小関係を学んでしまい、発生頻度は低いが重要な変数などを学習しづらく、またエンコーディングの際、無意味な順序付けが発生してしまうことが影響していると考えられます。さらにカウントエンコーディングでは異なるカテゴリカル変数に同じ値が割り当てられ、情報が失われる場合があるため、このことも影響し、ほとんどの場合で性能が一番性能が悪くなっていると考えられます。"
      ],
      "metadata": {
        "id": "pLPUhMDMdFMc"
      }
    },
    {
      "cell_type": "markdown",
      "source": [
        "<!-- JPN -->\n",
        "### 5.3 | まとめ"
      ],
      "metadata": {
        "id": "yBnVFhHleXqz"
      }
    },
    {
      "cell_type": "markdown",
      "source": [
        "<!-- JPN -->\n",
        "今後の取り組みとして以下のことを改善したいと思います。\n",
        "\n",
        "- ランダムフォレスト、アダブースト、多項式リッジ回帰のハイパーパラメータの探索範囲を拡大する。\n",
        "- ニューラルネットワークのバッチサイズやエポック数、層の数について今回は故意に選んだためより適切な値を定める。\n",
        "- 今回はOne-Hotエンコーディングが一番性能が良かったが今回扱ったデータのようにカテゴリ数が非常に多いデータセットに対してOne-Hotエンコーディングをすると、ランダムフォレストなどランダムに特徴量を選択するアルゴリズムでは、数値変数などの非カテゴリカル変数の選択率が減少して精度が落ちる場合があるため新しいエンコーディング手法を検討する。"
      ],
      "metadata": {
        "id": "fEIrlYSiedSp"
      }
    }
  ]
}